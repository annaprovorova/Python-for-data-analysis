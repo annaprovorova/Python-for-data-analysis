{
 "cells": [
  {
   "cell_type": "markdown",
   "metadata": {},
   "source": [
    "# Обработка последовательностей. Сортировка.Генерация списка\n",
    "\n",
    "Ссылка на материал на Google Colab:\n",
    "\n",
    "https://colab.research.google.com/drive/1XrZApg9jZW13pNcMzFj3J3KZsLFgMcZS?usp=sharing\n",
    "\n",
    "Откройте ссылку и скопируйте дакумент на свой Google Drive. После этого можно редактировать документ."
   ]
  },
  {
   "cell_type": "markdown",
   "metadata": {},
   "source": [
    "#### 1. Создание списков. \n",
    "\n",
    "Чтобы задать готовый список, нужно справа от знака присваивания в квадратных скобках перечислить его элементы через запятую."
   ]
  },
  {
   "cell_type": "code",
   "execution_count": 1,
   "metadata": {},
   "outputs": [
    {
     "name": "stdout",
     "output_type": "stream",
     "text": [
      "[1, 1, 2, 3, 5, 8, 13]\n"
     ]
    }
   ],
   "source": [
    "fib = [1, 1, 2, 3, 5, 8, 13]\n",
    "print(fib)  # выводим на экран список целиком"
   ]
  },
  {
   "cell_type": "markdown",
   "metadata": {},
   "source": [
    "Для того чтобы создать пустой список, можно воспользоваться конструкцией [] или функцией list."
   ]
  },
  {
   "cell_type": "code",
   "execution_count": 2,
   "metadata": {},
   "outputs": [],
   "source": [
    "empt1 = [] # это пустой список\n",
    "empt2 = list()  # и это тоже пустой список"
   ]
  },
  {
   "cell_type": "markdown",
   "metadata": {},
   "source": [
    "Также список можно создать с помощью умножения на число."
   ]
  },
  {
   "cell_type": "code",
   "execution_count": 3,
   "metadata": {},
   "outputs": [
    {
     "name": "stdout",
     "output_type": "stream",
     "text": [
      "[0, 0, 0, 0, 0]\n"
     ]
    }
   ],
   "source": [
    "print([0] * 5)"
   ]
  },
  {
   "cell_type": "markdown",
   "metadata": {},
   "source": [
    "ВАЖНО!\n",
    "\n",
    "Этот метод можно использовать только для создания одномерного списка. Если вы создаёте, например, двумерный список, нужно воспользоваться другими методами создания списка."
   ]
  },
  {
   "cell_type": "code",
   "execution_count": 6,
   "metadata": {},
   "outputs": [
    {
     "name": "stdout",
     "output_type": "stream",
     "text": [
      "[0, 2, 0, 0, 0, 0, 0, 0, 0]\n"
     ]
    }
   ],
   "source": [
    "a = [0, 0, 0] * 3\n",
    "a[1] = 2\n",
    "print(a) #заметили подвох?"
   ]
  },
  {
   "cell_type": "markdown",
   "metadata": {},
   "source": [
    "### Практическое задание\n",
    "\n",
    "Из введенных чисел в последовательности выберите только те, которые кратны длине этой последовательности.\n",
    "\n",
    "**Формат ввода**\n",
    "\n",
    "Вводятся числа, пока не будет введен ноль (признак окончания ввода, не входит в последовательность).\n",
    "\n",
    "**Формат вывода**\n",
    "\n",
    "Выведите список из чисел, кратных количеству введенных чисел, не считая ноль. Порядок не менять.\n",
    "\n",
    "Пример теста:\n",
    "\n",
    "\n",
    "<table>\n",
    "    <thead>\n",
    "        <tr>\n",
    "            <th>Ввод</th>\n",
    "            <th>Вывод</th>\n",
    "        </tr>\n",
    "    </thead>\n",
    "    <tbody>\n",
    "        <tr>\n",
    "            <td rowspan=2 align=\"center\">\n",
    "                <pre>12\n",
    "3\n",
    "42\n",
    "15\n",
    "7\n",
    "6\n",
    "0</pre>\n",
    "            </td>\n",
    "            <td VALIGN=top><pre>[12, 42, 6]</pre></td>\n",
    "        </tr>\n",
    "</table>"
   ]
  },
  {
   "cell_type": "code",
   "execution_count": null,
   "metadata": {},
   "outputs": [],
   "source": [
    "#напишите программу и протестируйте её в этой ячейке\n",
    "#обязательно придумайте свои тесты\n",
    "\n",
    "\n",
    "\n"
   ]
  },
  {
   "cell_type": "markdown",
   "metadata": {},
   "source": [
    "#### 2. Списочные выражения\n",
    "\n",
    "Для генерации списков из неповторяющихся элементов в Python имеется удобная синтаксическая конструкция — **списочное выражение (list comprehension)**. Она позволяет создавать элементы списка в цикле for, не записывая цикл целиком."
   ]
  },
  {
   "cell_type": "markdown",
   "metadata": {},
   "source": [
    "Например, нам нужно создать список квадратов целых чисел от 0 до 9. Мы можем написать следующий код:"
   ]
  },
  {
   "cell_type": "code",
   "execution_count": 7,
   "metadata": {},
   "outputs": [
    {
     "name": "stdout",
     "output_type": "stream",
     "text": [
      "[0, 1, 4, 9, 16, 25, 36, 49, 64, 81]\n"
     ]
    }
   ],
   "source": [
    "squares = []\n",
    "for i in range(10):\n",
    "    squares.append(i ** 2)\n",
    "print(squares)"
   ]
  },
  {
   "cell_type": "markdown",
   "metadata": {},
   "source": [
    "А теперь сделаем то же самое с помощью списочного выражения:"
   ]
  },
  {
   "cell_type": "code",
   "execution_count": 8,
   "metadata": {},
   "outputs": [
    {
     "name": "stdout",
     "output_type": "stream",
     "text": [
      "[0, 1, 4, 9, 16, 25, 36, 49, 64, 81]\n"
     ]
    }
   ],
   "source": [
    "squares = [i ** 2 for i in range(10)]\n",
    "print(squares)"
   ]
  },
  {
   "cell_type": "markdown",
   "metadata": {},
   "source": [
    "А если мы хотим добавить в список только квадраты нечётных чисел, то можно добавить условие:"
   ]
  },
  {
   "cell_type": "code",
   "execution_count": 10,
   "metadata": {},
   "outputs": [
    {
     "name": "stdout",
     "output_type": "stream",
     "text": [
      "[1, 9, 25, 49, 81]\n"
     ]
    }
   ],
   "source": [
    "even_squares = [i ** 2 for i in range(10) if i % 2 != 0]\n",
    "print(even_squares)"
   ]
  },
  {
   "cell_type": "markdown",
   "metadata": {},
   "source": [
    "Рисунок иллюстрирует соответствие между кодом сзаполнения списка с помощью цикла for и с помощью генератора:"
   ]
  },
  {
   "attachments": {
    "1_1.png": {
     "image/png": "[encoded data removed]"
    }
   },
   "cell_type": "markdown",
   "metadata": {},
   "source": [
    "![1_1.png](attachment:1_1.png)"
   ]
  },
  {
   "cell_type": "markdown",
   "metadata": {},
   "source": [
    "Также можно использовать несколько циклов for, как для создания одномерного списка:"
   ]
  },
  {
   "cell_type": "code",
   "execution_count": 13,
   "metadata": {},
   "outputs": [
    {
     "name": "stdout",
     "output_type": "stream",
     "text": [
      "[0, 0, 0, 0, 1, 2, 0, 2, 4]\n"
     ]
    }
   ],
   "source": [
    "print([i * j for i in range(3) for j in range(3)]) "
   ]
  },
  {
   "cell_type": "markdown",
   "metadata": {},
   "source": [
    "Или спользовать вложенные генераторы, для создания многомерного списка:"
   ]
  },
  {
   "cell_type": "code",
   "execution_count": 17,
   "metadata": {},
   "outputs": [
    {
     "name": "stdout",
     "output_type": "stream",
     "text": [
      "[[0, 1, 2], [0, 1, 2], [0, 1, 2]]\n"
     ]
    }
   ],
   "source": [
    "print([[i for i in range(3)] for j in range(3)])"
   ]
  },
  {
   "cell_type": "markdown",
   "metadata": {},
   "source": [
    "### Практическое задание\n",
    "\n",
    "Помогите Золушке перебрать крупу, то есть выбрать из предложения только слова с указанной подстрокой.\n",
    "\n",
    "**Формат ввода**\n",
    "\n",
    "Вводится подстрока, затем строка слов через пробел.\n",
    "\n",
    "**Формат вывода**\n",
    "\n",
    "Выведите через пробел слова, в которых есть подстрока.\n",
    "Решите задачу в одну строку (не считая ввода и вывода).\n",
    "\n",
    "\n",
    "Пример теста:\n",
    "\n",
    "\n",
    "<table>\n",
    "    <thead>\n",
    "        <tr>\n",
    "            <th>Ввод</th>\n",
    "            <th>Вывод</th>\n",
    "        </tr>\n",
    "    </thead>\n",
    "    <tbody>\n",
    "        <tr>\n",
    "            <td rowspan=2 align=\"left\">\n",
    "                <pre>рис\n",
    "Актриса Беатриса ест ириску сидя под кипарисом</pre>\n",
    "            </td>\n",
    "            <td VALIGN=top><pre>Актриса Беатриса ириску кипарисом</pre></td>\n",
    "        </tr>\n",
    "</table>"
   ]
  },
  {
   "cell_type": "code",
   "execution_count": null,
   "metadata": {},
   "outputs": [],
   "source": [
    "#напишите программу и протестируйте её в этой ячейке\n",
    "#обязательно придумайте свои тесты\n",
    "\n",
    "\n",
    "\n"
   ]
  },
  {
   "cell_type": "markdown",
   "metadata": {},
   "source": [
    "#### 3. Методы split и join\n",
    "\n",
    "Эти методы противоположны по смыслу: split разбивает строку по произвольному разделителю на список «слов», а join собирает из списка слов единую строку через заданный разделитель.\n",
    "\n",
    "**Метод split**\n",
    "\n",
    "Метод split можно вызвать вообще без аргументов или с одним аргументом-строкой. В первом случае строка разбивается на части, разделенные любыми символами пустого пространства (набором пробелов, символом табуляции и т. д.). Во втором случае разделителем слов считается строка-аргумент. Из получившихся слов формируется список."
   ]
  },
  {
   "cell_type": "code",
   "execution_count": 21,
   "metadata": {},
   "outputs": [
    {
     "name": "stdout",
     "output_type": "stream",
     "text": [
      "['Районы,', 'кварталы,', 'жилые', 'массивы,', 'я', 'ухожу,', 'ухожу', 'красиво']\n",
      "['Районы', ',', 'кварталы,', 'жилые', 'массивы,', 'я', 'ухожу,', 'ухожу', 'красиво']\n",
      "['Районы', ' кварталы', ' жилые массивы', ' я ухожу', ' ухожу красиво']\n",
      "['Рай', 'ны, кварталы, жилые массивы, я ух', 'жу, ух', 'жу красив', '']\n"
     ]
    }
   ],
   "source": [
    "print('Районы, кварталы, жилые массивы, я ухожу, ухожу красиво'.split())\n",
    "print('Районы           , кварталы,        жилые массивы, я      ухожу, ухожу красиво'.split())\n",
    "print('Районы, кварталы, жилые массивы, я ухожу, ухожу красиво'.split(','))\n",
    "print('Районы, кварталы, жилые массивы, я ухожу, ухожу красиво'.split('о'))"
   ]
  },
  {
   "cell_type": "markdown",
   "metadata": {},
   "source": [
    "**Метод join**\n",
    "\n",
    "join же всегда принимает один аргумент — список слов, которые нужно склеить. Разделителем (точнее, «соединителем») служит та самая строка, чей метод join вызывается. Это может быть и пустая строка, и пробел, и символ новой строки, и что угодно еще. "
   ]
  },
  {
   "cell_type": "code",
   "execution_count": 22,
   "metadata": {},
   "outputs": [
    {
     "name": "stdout",
     "output_type": "stream",
     "text": [
      "АльбусПерсивальВульфрикБрайанДамблдор\n",
      "Альбус Персиваль Вульфрик Брайан Дамблдор\n",
      "Альбус*Персиваль*Вульфрик*Брайан*Дамблдор\n"
     ]
    }
   ],
   "source": [
    "name = ['Альбус', 'Персиваль', 'Вульфрик', 'Брайан', 'Дамблдор']\n",
    "print(''.join(name))\n",
    "print(' '.join(name))\n",
    "print('*'.join(name))"
   ]
  },
  {
   "cell_type": "markdown",
   "metadata": {},
   "source": [
    "Важно!\n",
    "\n",
    "Фактически split и join - это методы СТРОК. Попытка применить эти методы к объекту, не являющемуся строкой, вызовет ошибку!"
   ]
  },
  {
   "cell_type": "code",
   "execution_count": 23,
   "metadata": {},
   "outputs": [
    {
     "ename": "TypeError",
     "evalue": "sequence item 0: expected str instance, int found",
     "output_type": "error",
     "traceback": [
      "\u001b[1;31m---------------------------------------------------------------------------\u001b[0m",
      "\u001b[1;31mTypeError\u001b[0m                                 Traceback (most recent call last)",
      "Cell \u001b[1;32mIn[23], line 2\u001b[0m\n\u001b[0;32m      1\u001b[0m \u001b[39m#не надо так!\u001b[39;00m\n\u001b[1;32m----> 2\u001b[0m \u001b[39m'\u001b[39;49m\u001b[39m'\u001b[39;49m\u001b[39m.\u001b[39;49mjoin([\u001b[39m4\u001b[39;49m, \u001b[39m5\u001b[39;49m, \u001b[39m6\u001b[39;49m])\n",
      "\u001b[1;31mTypeError\u001b[0m: sequence item 0: expected str instance, int found"
     ]
    }
   ],
   "source": [
    "#не надо так!\n",
    "''.join([4, 5, 6])"
   ]
  },
  {
   "cell_type": "markdown",
   "metadata": {},
   "source": [
    "### Практическое задание\n",
    "\n",
    "На вход программе подается строка текста и строка-разделитель. Напишите программу, которая вставляет указанный разделитель между каждым словом введенной строки текста.\n",
    "\n",
    "Пример теста:\n",
    "\n",
    "\n",
    "<table>\n",
    "    <thead>\n",
    "        <tr>\n",
    "            <th>Ввод</th>\n",
    "            <th>Вывод</th>\n",
    "        </tr>\n",
    "    </thead>\n",
    "    <tbody>\n",
    "        <tr>\n",
    "            <td rowspan=2 align=\"left\">\n",
    "                <pre>Кошка села у окошка\n",
    "#</pre>\n",
    "            </td>\n",
    "            <td VALIGN=top><pre>Кошка#села#у#окошка</pre></td>\n",
    "        </tr>\n",
    "</table>"
   ]
  },
  {
   "cell_type": "code",
   "execution_count": null,
   "metadata": {},
   "outputs": [],
   "source": [
    "#напишите программу и протестируйте её в этой ячейке\n",
    "#обязательно придумайте свои тесты\n",
    "\n",
    "\n",
    "\n"
   ]
  },
  {
   "cell_type": "markdown",
   "metadata": {},
   "source": [
    "#### 4. Функция map\n",
    "\n",
    "Это функция высшего порядка. То есть эта функция может принимать как аргументы другие функции. \n",
    "\n",
    "Функция map преобразует каждый элемент списка по некоторому общему правилу и в результате создает новый объект из преобразованных значений - итератор (специальный итерируемый объект, похожий на список)."
   ]
  },
  {
   "cell_type": "markdown",
   "metadata": {},
   "source": [
    "Например, вам уже хорошо знакомо действие функции map при вводе элементов с клавиатуры в виде строки:"
   ]
  },
  {
   "cell_type": "code",
   "execution_count": 25,
   "metadata": {},
   "outputs": [
    {
     "data": {
      "text/plain": [
       "[1, 2, 3]"
      ]
     },
     "execution_count": 25,
     "metadata": {},
     "output_type": "execute_result"
    }
   ],
   "source": [
    "a = '1 2 3'\n",
    "# преобразуем введённую строку в список целых чисел\n",
    "b = list(map(int, a.split()))\n",
    "b"
   ]
  },
  {
   "cell_type": "markdown",
   "metadata": {},
   "source": [
    "Как аргумент в map можно передавать абсолютно любую функцию (в том числе, созданную Вами самостоятельно, но об этом - чуть позже)"
   ]
  },
  {
   "cell_type": "code",
   "execution_count": 27,
   "metadata": {},
   "outputs": [
    {
     "name": "stdout",
     "output_type": "stream",
     "text": [
      "[1, 2, 6, 24, 120]\n"
     ]
    }
   ],
   "source": [
    "from math import factorial\n",
    "\n",
    "print(list(map(factorial, [1, 2, 3, 4, 5])))"
   ]
  },
  {
   "cell_type": "markdown",
   "metadata": {},
   "source": [
    "### Практическое задание\n",
    "\n",
    "Напишите программу, которая применяет к числам, функцию, введённую пользователем.\n",
    "\n",
    "**Формат ввода**\n",
    "\n",
    "В первой строке вводится последовательность натуральных чисел через пробел. Во сторой строке вводится функция из модуля math, которую нужно применить к этим числам.\n",
    "\n",
    "Список функций модуля math можно посмотреть тут https://pythonworld.ru/moduli/modul-math.html\n",
    "\n",
    "Для перевода строчного названия функции в функцию используйте eval.\n",
    "\n",
    "**Формат вывода**\n",
    "\n",
    "Выведите список, получившийся в результате.\n",
    "\n",
    "\n",
    "Пример теста:\n",
    "\n",
    "\n",
    "<table>\n",
    "    <thead>\n",
    "        <tr>\n",
    "            <th>Ввод</th>\n",
    "            <th>Вывод</th>\n",
    "        </tr>\n",
    "    </thead>\n",
    "    <tbody>\n",
    "        <tr>\n",
    "            <td rowspan=2 align=\"left\">\n",
    "                <pre>0 1 2 3\n",
    "exp</pre>\n",
    "            </td>\n",
    "            <td VALIGN=top><pre>[1.0, 2.718281828459045, 7.38905609893065, 20.085536923187668]</pre></td>\n",
    "        </tr>\n",
    "</table>"
   ]
  },
  {
   "cell_type": "code",
   "execution_count": null,
   "metadata": {},
   "outputs": [],
   "source": [
    "#напишите программу и протестируйте её в этой ячейке\n",
    "#обязательно придумайте свои тесты\n",
    "\n",
    "\n",
    "\n"
   ]
  },
  {
   "cell_type": "markdown",
   "metadata": {},
   "source": [
    "#### 5. Enumirate и zip\n",
    "\n",
    "Функция enumerate() добавляет счетчик к итерируемому объекту и возвращает его. Возвращаемый объект является перечисляемым объектом. Вы можете преобразовать перечисляемые объекты в список и кортеж, используя методы list() и tuple() соответственно.\n"
   ]
  },
  {
   "cell_type": "code",
   "execution_count": 32,
   "metadata": {},
   "outputs": [
    {
     "name": "stdout",
     "output_type": "stream",
     "text": [
      "(0, 'h')\n",
      "(1, 'e')\n",
      "(2, 'l')\n",
      "(3, 'l')\n",
      "(4, 'o')\n"
     ]
    }
   ],
   "source": [
    "b = \"hello\"\n",
    "for i in enumerate(b):\n",
    "    print(i)"
   ]
  },
  {
   "cell_type": "markdown",
   "metadata": {},
   "source": [
    "Часто используется следующим образом, для работы с индексами элементов списка:"
   ]
  },
  {
   "cell_type": "code",
   "execution_count": 34,
   "metadata": {},
   "outputs": [
    {
     "name": "stdout",
     "output_type": "stream",
     "text": [
      "0 абрикос\n",
      "1 ананас\n",
      "2 банан\n"
     ]
    }
   ],
   "source": [
    "spisok = ['абрикос', 'ананас', 'банан']\n",
    "for id, val in enumerate(spisok):\n",
    "     print(id, val)"
   ]
  },
  {
   "cell_type": "markdown",
   "metadata": {},
   "source": [
    "### Практическое задание\n",
    "\n",
    "Дан список чисел. Используя функцию enumerate() в заголовке цикла for, создайте второй список, в котором каждый элемент должен быть строкой, включающей через пробел индекс и значение соответствующего элемента первого списка.\n",
    "\n",
    "\n",
    "Пример теста:\n",
    "\n",
    "\n",
    "<table>\n",
    "    <thead>\n",
    "        <tr>\n",
    "            <th>Ввод</th>\n",
    "            <th>Вывод</th>\n",
    "        </tr>\n",
    "    </thead>\n",
    "    <tbody>\n",
    "        <tr>\n",
    "            <td rowspan=2 align=\"left\">\n",
    "                <pre>а роза упала на лапу Азора</pre>\n",
    "            </td>\n",
    "            <td VALIGN=top><pre>['0 а', '1 роза', '2 упала', '3 на', '4 лапу', '5 Азора']</pre></td>\n",
    "        </tr>\n",
    "</table>"
   ]
  },
  {
   "cell_type": "code",
   "execution_count": 36,
   "metadata": {},
   "outputs": [],
   "source": [
    "#напишите программу и протестируйте её в этой ячейке\n",
    "#обязательно придумайте свои тесты\n",
    "\n",
    "\n"
   ]
  },
  {
   "cell_type": "markdown",
   "metadata": {},
   "source": [
    "Функция zip() используется для совмещения двух и более списков в один. Она возвращает итератор кортежей, где i-ый кортеж содержит i-ый элемент из каждого из переданных списков."
   ]
  },
  {
   "cell_type": "code",
   "execution_count": 38,
   "metadata": {},
   "outputs": [
    {
     "name": "stdout",
     "output_type": "stream",
     "text": [
      "[(1, 4), (2, 5), (3, 6)]\n"
     ]
    }
   ],
   "source": [
    "a = [1, 2, 3]\n",
    "b = [4, 5, 6]\n",
    "zipped = zip(a, b)\n",
    "print(list(zipped)) "
   ]
  },
  {
   "cell_type": "markdown",
   "metadata": {},
   "source": [
    "Также функция zip() может быть использована для «расстегивания» списка кортежей обратно в отдельные списки. Для этого используется оператор «*». Он позволяет преобразовать список в набор аргументов для функции."
   ]
  },
  {
   "cell_type": "code",
   "execution_count": 39,
   "metadata": {},
   "outputs": [
    {
     "name": "stdout",
     "output_type": "stream",
     "text": [
      "[1, 2, 3]\n",
      "[4, 5, 6]\n"
     ]
    }
   ],
   "source": [
    "zipped = [(1, 4), (2, 5), (3, 6)]\n",
    "a, b = zip(*zipped)\n",
    "print(list(a)) \n",
    "print(list(b)) "
   ]
  },
  {
   "cell_type": "markdown",
   "metadata": {},
   "source": [
    "### Практическое задание\n",
    "\n",
    "У Вани есть два набора карточек. В каждом наборе оинаковое количество карточек. В одном наборе карточки цветов, а в другом наборе - карточки предметов. Ваня хочет разбить эти два набора на пары цвет + предмет. Помогите ему справиться с этой задачей.\n",
    "\n",
    "\n",
    "**Формат ввода**\n",
    "\n",
    "В первой строке чере пробел вводятся цвета.\n",
    "Во второй строке через пробел вводятся предметы.\n",
    "\n",
    "**Формат вывода**\n",
    "\n",
    "Выведите В СТОЛБЕЦ пары цвет + предмет. Пары идут в том же порядке, как они были введены в список.\n",
    "\n",
    "\n",
    "Пример теста:\n",
    "\n",
    "\n",
    "<table>\n",
    "    <thead>\n",
    "        <tr>\n",
    "            <th>Ввод</th>\n",
    "            <th>Вывод</th>\n",
    "        </tr>\n",
    "    </thead>\n",
    "    <tbody>\n",
    "        <tr>\n",
    "            <td rowspan=2 align=\"left\">\n",
    "                <pre>красный синий голубой\n",
    "шарф ботинок пакет</pre>\n",
    "            </td>\n",
    "            <td VALIGN=top><pre>красный шарф\n",
    "синий ботинок\n",
    "голубой пакет</pre></td>\n",
    "        </tr>\n",
    "</table>"
   ]
  },
  {
   "cell_type": "code",
   "execution_count": null,
   "metadata": {},
   "outputs": [],
   "source": [
    "#напишите программу и протестируйте её в этой ячейке\n",
    "#обязательно придумайте свои тесты\n",
    "\n",
    "\n"
   ]
  },
  {
   "cell_type": "markdown",
   "metadata": {},
   "source": [
    "#### 6. Сортировка списков\n",
    "\n",
    "Как отсортировать список? Для сортировки списка по возрастанию также можно использовать функцию списков sorted(), которая вернёт новый отсортированный список. Соответственно, результат sorted() нужно сохранить в новую переменную:"
   ]
  },
  {
   "cell_type": "code",
   "execution_count": 43,
   "metadata": {},
   "outputs": [
    {
     "name": "stdout",
     "output_type": "stream",
     "text": [
      "[1, 2, 3, 4, 5]\n",
      "[5, 2, 3, 1, 4]\n",
      "[1, 2, 3, 4, 5]\n"
     ]
    }
   ],
   "source": [
    "a = [5, 2, 3, 1, 4]\n",
    "print(sorted(a))\n",
    "b = sorted(a)\n",
    "print(a)\n",
    "print(b)"
   ]
  },
  {
   "cell_type": "markdown",
   "metadata": {},
   "source": [
    "Также можно использовать метод list.sort(), который изменит исходный список (и возвращает None во избежание путаницы).:"
   ]
  },
  {
   "cell_type": "code",
   "execution_count": 45,
   "metadata": {},
   "outputs": [
    {
     "name": "stdout",
     "output_type": "stream",
     "text": [
      "None\n",
      "[1, 2, 3, 4, 5]\n"
     ]
    }
   ],
   "source": [
    "a = [5, 4, 3, 2, 1]\n",
    "print(a.sort())\n",
    "print(a)"
   ]
  },
  {
   "cell_type": "markdown",
   "metadata": {},
   "source": [
    "Для сортировки по убыванию, достаточно добавить в скобки параметр reverse=True:"
   ]
  },
  {
   "cell_type": "code",
   "execution_count": 46,
   "metadata": {},
   "outputs": [
    {
     "name": "stdout",
     "output_type": "stream",
     "text": [
      "[5, 4, 3, 2, 1]\n"
     ]
    }
   ],
   "source": [
    "a = [1, 2, 3, 4, 5]\n",
    "print(sorted(a, reverse=True))"
   ]
  },
  {
   "cell_type": "markdown",
   "metadata": {},
   "source": [
    "**Функции-ключи**\n",
    "\n",
    "Также у функций сортировки есть ещё один не обязательный параметр key.\n",
    "\n",
    "Значением key выступает функция, которая будет вызываться для каждого элемента в списке.\n",
    "\n",
    "В следующем примере давайте используем функцию len() в качестве значения аргумента key. Таким образом, key=len скажет компьютеру отсортировать список имен по длине, от наименьшего к наибольшему:"
   ]
  },
  {
   "cell_type": "code",
   "execution_count": 47,
   "metadata": {},
   "outputs": [
    {
     "name": "stdout",
     "output_type": "stream",
     "text": [
      "['Ben', 'Carl', 'Wendy', 'Jackie', 'Jessica']\n"
     ]
    }
   ],
   "source": [
    "names = [\"Jessica\", \"Ben\", \"Carl\", \"Jackie\", \"Wendy\"]\n",
    "names.sort(key=len)\n",
    "print(names)"
   ]
  },
  {
   "cell_type": "markdown",
   "metadata": {},
   "source": [
    "Также вот пример регистронезависимого сравнения строк(в этом случае используем функцию sorted для разнообразия):"
   ]
  },
  {
   "cell_type": "code",
   "execution_count": 49,
   "metadata": {},
   "outputs": [
    {
     "data": {
      "text/plain": [
       "['к', 'Когда', 'приду', 'расцветут,', 'с', 'тебе', 'цветами', 'я', 'яблони']"
      ]
     },
     "execution_count": 49,
     "metadata": {},
     "output_type": "execute_result"
    }
   ],
   "source": [
    "sorted(\"Когда яблони расцветут, я приду к тебе с цветами\".split(), key=str.lower)"
   ]
  },
  {
   "cell_type": "markdown",
   "metadata": {},
   "source": [
    "### Практическое задание\n",
    "\n",
    "Вам дан список целых чисел. Гарантируется, что в списке есть как положительные, так и отрицательные числа. Отсортируйте этот список по модулю чисел.\n",
    "\n",
    "**Формат ввода**\n",
    "\n",
    "В одну строку вводятся целые числа.\n",
    "\n",
    "**Формат вывода**\n",
    "\n",
    "Выведите список, отсортированный по модулю. Выведите результат без запятых и квадратных скобок.\n",
    "\n",
    "\n",
    "Пример теста:\n",
    "\n",
    "\n",
    "<table>\n",
    "    <thead>\n",
    "        <tr>\n",
    "            <th>Ввод</th>\n",
    "            <th>Вывод</th>\n",
    "        </tr>\n",
    "    </thead>\n",
    "    <tbody>\n",
    "        <tr>\n",
    "            <td rowspan=2 align=\"left\">\n",
    "                <pre>-3 1 -11 7 2 -15</pre>\n",
    "            </td>\n",
    "            <td VALIGN=top><pre>1 2 -3 7 -11 -15</pre></td>\n",
    "        </tr>\n",
    "</table>"
   ]
  },
  {
   "cell_type": "code",
   "execution_count": 53,
   "metadata": {},
   "outputs": [],
   "source": [
    "#напишите программу и протестируйте её в этой ячейке\n",
    "#обязательно придумайте свои тесты\n",
    "\n",
    "\n"
   ]
  },
  {
   "cell_type": "markdown",
   "metadata": {},
   "source": [
    "# Задания для самостоятельного решения\n",
    "\n",
    "1. На каникулах Венечка поехал к бабушки в гости в город Белая Холуница. \n",
    "Город практически ничем не примечательный, но зато рядом с ним растёт древний, вековой сосновый бор.  \n",
    "Гуляя по лесу Венечка стал измерять на глаз высоту деревьев и записывать себе в блокнот.\n",
    "Интересно, а сколько самых высоких сосен встретил Венечка?\n",
    "\n",
    "**Формат ввода**\n",
    "\n",
    "В строке вводится список целых чисел - наблюдения Венечки, высоты деревьев.\n",
    "\n",
    "**Формат вывода**\n",
    "\n",
    "Выведите одно число - количество сосен максимальной высоты.\n",
    "\n",
    "Пример теста:\n",
    "\n",
    "\n",
    "<table>\n",
    "    <thead>\n",
    "        <tr>\n",
    "            <th>Ввод</th>\n",
    "            <th>Вывод</th>\n",
    "        </tr>\n",
    "    </thead>\n",
    "    <tbody>\n",
    "        <tr>\n",
    "            <td  align=\"left\">\n",
    "                <pre>5 5 8 10 8 10 10 5 6 10</pre>\n",
    "            </td>\n",
    "            <td VALIGN=top><pre>4\n",
    "</pre></td>\n",
    "        </tr>\n",
    "\n",
    "</tbody>\n",
    "\n",
    "</table>"
   ]
  },
  {
   "cell_type": "code",
   "execution_count": null,
   "metadata": {},
   "outputs": [],
   "source": [
    "#напишите программу и протестируйте её в этой ячейке\n",
    "#обязательно придумайте свои тесты\n",
    "\n",
    "\n"
   ]
  },
  {
   "cell_type": "markdown",
   "metadata": {},
   "source": [
    "2. Объявлен набор в школьную баскетбольную команду. Известен рост каждого из $n$ учеников, желающих попасть в эту команду. Составьте алгоритм подсчёта количества претендентов, имеющих шанс попасть в команду, если рост игрока команды должен быть не менее 170 см. \n",
    "\n",
    "**Формат ввода**\n",
    "\n",
    "В первой строке вводится число $n$ - количество учеников, желающих попасть в команду. 1 <= $n$ <= 10000. {br}\n",
    "Далее в одну строку вводится рост учеников-претендентов.\n",
    "\n",
    "**Формат вывода**\n",
    "\n",
    "В первой строке выведите количество учеников, чей рост не менее 170 сантиментов. {br}\n",
    "Во второй строке через пробел выведите значение роста всех учеников, прошедших отбор.{br}\n",
    "Если подходящих учеников не найдётся, выведите \"Команда не набралась!\" \n",
    "\n",
    "Пример теста:\n",
    "\n",
    "\n",
    "<table>\n",
    "    <thead>\n",
    "        <tr>\n",
    "            <th>Ввод</th>\n",
    "            <th>Вывод</th>\n",
    "        </tr>\n",
    "    </thead>\n",
    "    <tbody>\n",
    "        <tr>\n",
    "            <td  align=\"left\">\n",
    "                <pre>10\n",
    "186 175 192 193 150 164 192 156 189 136</pre>\n",
    "            </td>\n",
    "            <td VALIGN=top><pre>6\n",
    "186 175 192 193 192 189\n",
    "</pre></td>\n",
    "        </tr>\n",
    "\n",
    "<tr>\n",
    "            <td  align=\"left\">\n",
    "                <pre>10\n",
    "151 156 152 167 138 149 169 137 145 168</pre>\n",
    "            </td>\n",
    "            <td VALIGN=top><pre>Команда не набралась!\n",
    "</pre></td>\n",
    "        </tr>\n",
    "        </tbody>\n",
    "\n",
    "</table>"
   ]
  },
  {
   "cell_type": "code",
   "execution_count": null,
   "metadata": {},
   "outputs": [],
   "source": [
    "#напишите программу и протестируйте её в этой ячейке\n",
    "#обязательно придумайте свои тесты\n",
    "\n",
    "\n"
   ]
  },
  {
   "cell_type": "markdown",
   "metadata": {},
   "source": [
    "3. Реализуйте программу, которая фильтрует транспортные компании на основании прогнозируемого количества дней для интересующей нас доставки:\n",
    "\n",
    "На первой строке вводятся названия компаний через пробел.\n",
    "На второй строк через пробел вводятся числа — ожидаемое количество дней, необходимое для доставки груза.  \n",
    "Гарантируется, что будет введена информация минимум для одной компании.\n",
    "Затем вводится число — максимально допустимое для нас количество дней для доставки. \n",
    "Программа выводит названия компаний, прогнозируемое количество дней для доставки у которых меньше или равно введенному, каждое на новой строке.\n",
    "Если таких компаний нет, то программа ничего не выводит.\n",
    "\n",
    "Пример теста:\n",
    "\n",
    "\n",
    "<table>\n",
    "    <thead>\n",
    "        <tr>\n",
    "            <th>Ввод</th>\n",
    "            <th>Вывод</th>\n",
    "        </tr>\n",
    "    </thead>\n",
    "    <tbody>\n",
    "        <tr>\n",
    "            <td  align=\"left\">\n",
    "                <pre>Газелька2 Доставочка1 Перевозки007 ЛюбимыйГрузовичок\n",
    "10 9 9 9\n",
    "9</pre>\n",
    "            </td>\n",
    "            <td VALIGN=top><pre>Доставочка1\n",
    "Перевозки007\n",
    "ЛюбимыйГрузовичок\n",
    "</pre></td>\n",
    "        </tr>\n",
    "\n",
    "<tr>\n",
    "            <td  align=\"left\">\n",
    "                <pre>Газелька Грузовичок Перевозки007\n",
    "6 7 4\n",
    "5</pre>\n",
    "            </td>\n",
    "            <td VALIGN=top><pre>Перевозки007\n",
    "</pre></td>\n",
    "        </tr>\n",
    "<tr>\n",
    "            <td  align=\"left\">\n",
    "                <pre>Газелька2 Доставочка1 Перевозки007 ЛюбимыйГрузовичок\n",
    "9 9 9 9\n",
    "8</pre>\n",
    "            </td>\n",
    "            <td VALIGN=top><pre>\n",
    "</pre></td>\n",
    "        </tr>\n",
    "</tbody>\n",
    "\n",
    "</table>"
   ]
  },
  {
   "cell_type": "code",
   "execution_count": null,
   "metadata": {},
   "outputs": [],
   "source": [
    "#напишите программу и протестируйте её в этой ячейке\n",
    "#обязательно придумайте свои тесты\n",
    "\n",
    "\n"
   ]
  }
 ],
 "metadata": {
  "kernelspec": {
   "display_name": "Python 3",
   "language": "python",
   "name": "python3"
  },
  "language_info": {
   "codemirror_mode": {
    "name": "ipython",
    "version": 3
   },
   "file_extension": ".py",
   "mimetype": "text/x-python",
   "name": "python",
   "nbconvert_exporter": "python",
   "pygments_lexer": "ipython3",
   "version": "3.11.7"
  },
  "orig_nbformat": 4
 },
 "nbformat": 4,
 "nbformat_minor": 2
}
