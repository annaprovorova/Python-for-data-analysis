{
  "cells": [
    {
      "cell_type": "markdown",
      "metadata": {
        "id": "tBkaRtHK_mw7"
      },
      "source": [
        "# Семинар 2. Условный опрератор"
      ]
    },
    {
      "cell_type": "markdown",
      "metadata": {
        "id": "IyrRTbJq_mw9"
      },
      "source": [
        "ИНСТРУКЦИЯ: Для того, чтобы продолжить работу в рабочей тетради в Google Colab авторизуйтесь с помощью почтового ящика в почтового ящика в домене @gmail.com (Нажмите кнопку \"Войти\" в правом верхнем углу).\n",
        "\n",
        "Далее нажмите \"Файл\" слева сверху и выберите \"Сохранить копию на диске\".\n",
        "\n",
        "После создания копии, вы можете приступать к работе.\n"
      ]
    },
    {
      "cell_type": "markdown",
      "source": [
        "Сегодня мы поговорим об условном операторе и конструкциях, построенных на его базе."
      ],
      "metadata": {
        "id": "xUPOcw8GFHXc"
      }
    },
    {
      "cell_type": "markdown",
      "metadata": {
        "id": "WQ9-ZCDv_mxA"
      },
      "source": [
        "### Задача 1\n",
        "\n",
        "Ввести два целых числа, найти наибольшее и наименьшее из них.\n",
        "\n",
        "Пример теста:\n",
        "\n",
        "\n",
        "<table>\n",
        "    <thead>\n",
        "        <tr>\n",
        "            <th>Ввод</th>\n",
        "            <th>Вывод</th>\n",
        "        </tr>\n",
        "    </thead>\n",
        "    <tbody>\n",
        "        <tr>\n",
        "            <td rowspan=2 align=\"center\">\n",
        "<pre>1\n",
        "5\n",
        "</pre>\n",
        "            </td>\n",
        "            <td VALIGN=top><pre>\n",
        "Наибольшее число 5\n",
        "Наименьшее число 1\n",
        "</pre></td>\n",
        "        </tr>\n",
        "</table>\n",
        "\n"
      ]
    },
    {
      "cell_type": "code",
      "execution_count": null,
      "metadata": {
        "id": "42g_q21i_mxA"
      },
      "outputs": [],
      "source": [
        "# напишите программу здесь\n",
        "# придумайте не менее 3 тестов\n",
        "\n"
      ]
    },
    {
      "cell_type": "markdown",
      "metadata": {
        "id": "ILfz4sGQ_mxB"
      },
      "source": [
        "### Задача 2\n",
        "\n",
        "Ввести 4 целых числа, найти наибольшее из них.\n",
        "\n",
        "Пример теста:\n",
        "\n",
        "\n",
        "<table>\n",
        "    <thead>\n",
        "        <tr>\n",
        "            <th>Ввод</th>\n",
        "            <th>Вывод</th>\n",
        "        </tr>\n",
        "    </thead>\n",
        "    <tbody>\n",
        "        <tr>\n",
        "            <td rowspan=2 align=\"center\">\n",
        "                <pre>\n",
        "1\n",
        "5\n",
        "4\n",
        "3\n",
        "</pre>\n",
        "            </td>\n",
        "            <td VALIGN=top><pre>\n",
        "Наибольшее число 5\n",
        "</pre></td>\n",
        "        </tr>\n",
        "</table>\n"
      ]
    },
    {
      "cell_type": "code",
      "execution_count": null,
      "metadata": {
        "id": "TaaURD_2_mxB"
      },
      "outputs": [],
      "source": [
        "# напишите программу здесь\n",
        "# придумайте не менее 3 тестов\n",
        "\n"
      ]
    },
    {
      "cell_type": "markdown",
      "metadata": {
        "id": "qzd8dLe__mxC"
      },
      "source": [
        "## Сложные условия"
      ]
    },
    {
      "cell_type": "markdown",
      "metadata": {
        "id": "zJyN3rOyIK99"
      },
      "source": [
        "### Задача 3\n",
        "\n",
        "Фирма набирает сотрудников от 25 до 40 лет включительно. Ввести возраст человека и определить, подходит ли он фирме (вывести ответ \"подходит\" или \"не подходит\").\n",
        "Особенность: надо проверить, выполняются ли два условия одновременно:       возраст >= 25 и возраст <= 40\n",
        "\n",
        "\n",
        "Пример теста:\n",
        "\n",
        "\n",
        "<table>\n",
        "    <thead>\n",
        "        <tr>\n",
        "            <th>Ввод</th>\n",
        "            <th>Вывод</th>\n",
        "        </tr>\n",
        "    </thead>\n",
        "    <tbody>\n",
        "        <tr>\n",
        "            <td rowspan=1 align=\"center\">\n",
        "                <pre>\n",
        "30\n",
        "</pre>\n",
        "            </td>\n",
        "            <td VALIGN=top><pre>\n",
        "Кандидат подходит фирме\n",
        "</pre></td>\n",
        "        </tr>\n",
        " <tr>\n",
        "            <td rowspan=1 align=\"center\">\n",
        "                <pre>\n",
        "48\n",
        "</pre>\n",
        "            </td>\n",
        "            <td VALIGN=top><pre>\n",
        "Кандидат не подходит фирме\n",
        "</pre></td>\n",
        "        </tr>\n",
        "</table>\n"
      ]
    },
    {
      "cell_type": "code",
      "execution_count": null,
      "metadata": {
        "id": "GLIMVcuEIK9_"
      },
      "outputs": [],
      "source": [
        "# решите с помощью вложенного условного оператора\n",
        "\n"
      ]
    },
    {
      "cell_type": "markdown",
      "source": [
        "## Как улучшить это решение? Использовать логические операторы!\n",
        "\n",
        "and (Логическое И) - используется, если два условия должны выполняться **ОДНОВРЕМЕННО**.\n",
        "\n",
        "Например, в предыдущей задаче (возраст >= 25) И (возраст <= 40)\n",
        "\n"
      ],
      "metadata": {
        "id": "R5CZc0QkIx67"
      }
    },
    {
      "cell_type": "code",
      "execution_count": null,
      "metadata": {
        "id": "76bDrva6_mxC",
        "cellView": "form"
      },
      "outputs": [],
      "source": [
        "# @title\n",
        "age = int(input())\n",
        "if age >= 25 and age <= 40:\n",
        "  print('Кандидат подходит фирме')\n",
        "else:\n",
        "  print('Кандидат не подходит фирме')"
      ]
    },
    {
      "cell_type": "markdown",
      "source": [
        "**Упражнение 1:** Вывести \"Да\", если число в переменной a – двузначное.\n"
      ],
      "metadata": {
        "id": "Gb_qsb56KvfQ"
      }
    },
    {
      "cell_type": "code",
      "source": [
        "# напишите программу здесь\n",
        "\n"
      ],
      "metadata": {
        "id": "BrbrXCuuK5Lq"
      },
      "execution_count": null,
      "outputs": []
    },
    {
      "cell_type": "markdown",
      "source": [
        "**Упражнение 2:** Вывести \"Да\", если число в переменной a – двузначное и делится на 7\n"
      ],
      "metadata": {
        "id": "KNbsV6ncLAnE"
      }
    },
    {
      "cell_type": "code",
      "source": [
        "# напишите программу здесь\n",
        "\n"
      ],
      "metadata": {
        "id": "yJhAH7mRLAnE"
      },
      "execution_count": null,
      "outputs": []
    },
    {
      "cell_type": "markdown",
      "metadata": {
        "id": "iLWj4rdjLInD"
      },
      "source": [
        "### Задача 4\n",
        "\n",
        "Самолёт летает по понедельникам и четвергам. Ввести номер дня недели и определить, летает ли в этот день самолёт.\n",
        "\n",
        "Пример теста:\n",
        "\n",
        "\n",
        "<table>\n",
        "    <thead>\n",
        "        <tr>\n",
        "            <th>Ввод</th>\n",
        "            <th>Вывод</th>\n",
        "        </tr>\n",
        "    </thead>\n",
        "    <tbody>\n",
        "        <tr>\n",
        "            <td rowspan=1 align=\"center\">\n",
        "                <pre>\n",
        "1\n",
        "</pre>\n",
        "            </td>\n",
        "            <td VALIGN=top><pre>\n",
        "Летает\n",
        "</pre></td>\n",
        "        </tr>\n",
        " <tr>\n",
        "            <td rowspan=1 align=\"center\">\n",
        "                <pre>\n",
        "2\n",
        "</pre>\n",
        "            </td>\n",
        "            <td VALIGN=top><pre>\n",
        "Не летает\n",
        "</pre></td>\n",
        "        </tr>\n",
        "</table>\n"
      ]
    },
    {
      "cell_type": "code",
      "execution_count": null,
      "metadata": {
        "id": "Jn99CcysLInD"
      },
      "outputs": [],
      "source": [
        "# место для решения\n",
        "\n"
      ]
    },
    {
      "cell_type": "code",
      "source": [
        "# @title\n",
        "day = int(input())\n",
        "if day == 1 or day == 4:\n",
        "  print('Летает')\n",
        "else:\n",
        "  print('Не летает')"
      ],
      "metadata": {
        "cellView": "form",
        "id": "wdSul_-ZL1Jf"
      },
      "execution_count": null,
      "outputs": []
    },
    {
      "cell_type": "markdown",
      "source": [
        "or (Логическое ИЛИ) - используется, если должно выполняться **ХОТЯ БЫ ОДНО** из двух условий.\n",
        "\n",
        "Например, в предыдущей задаче (день == 1) ИЛИ (день == 4)\n"
      ],
      "metadata": {
        "id": "WigiqcvKMEF3"
      }
    },
    {
      "cell_type": "markdown",
      "source": [
        "not(Логическое НЕ) - если выполняется обратное условие"
      ],
      "metadata": {
        "id": "8ZvW94GFMdM4"
      }
    },
    {
      "cell_type": "code",
      "source": [
        "# @title\n",
        "a = int(input())\n",
        "b = int(input())\n",
        "if not(a < b):\n",
        "  print('а больше b')"
      ],
      "metadata": {
        "cellView": "form",
        "id": "XBwf0T6fMqWv"
      },
      "execution_count": null,
      "outputs": []
    },
    {
      "cell_type": "code",
      "source": [
        "# @title\n",
        "if a >= b:\n",
        "  print('а больше b')"
      ],
      "metadata": {
        "cellView": "form",
        "id": "nNCYhzFIM3E4"
      },
      "execution_count": null,
      "outputs": []
    },
    {
      "cell_type": "markdown",
      "source": [
        "\n",
        "## Порядок выполнения операций\n",
        "\n",
        "- выражения в скобках\n",
        "- <, <=, >, >=, =, !=\n",
        "- not\n",
        "- and\n",
        "- or\n"
      ],
      "metadata": {
        "id": "QbcvUFl8OCFp"
      }
    },
    {
      "cell_type": "code",
      "source": [
        "# расставьте порядок действий\n",
        "\n",
        "if not a > 2 or c != 5 and b < a:\n",
        "  pass"
      ],
      "metadata": {
        "id": "HhaW0TXcOP-f"
      },
      "execution_count": null,
      "outputs": []
    },
    {
      "cell_type": "markdown",
      "metadata": {
        "id": "cIE3g7Q-Okox"
      },
      "source": [
        "### Задача 5\n",
        "\n",
        "Напишите программу, которая получает три числа  - рост трёх спортсменов, и выводит сообщение «По росту», если они стоят по возрастанию роста, или сообщение «Не по росту!», если они стоят не по росту.\n",
        "\n",
        "\n",
        "Пример теста:\n",
        "\n",
        "\n",
        "<table>\n",
        "    <thead>\n",
        "        <tr>\n",
        "            <th>Ввод</th>\n",
        "            <th>Вывод</th>\n",
        "        </tr>\n",
        "    </thead>\n",
        "    <tbody>\n",
        "        <tr>\n",
        "            <td rowspan=1 align=\"center\">\n",
        "                <pre>\n",
        "Введите рост трёх спортсменов:\n",
        "165 170 172\n",
        "</pre>\n",
        "            </td>\n",
        "            <td VALIGN=top><pre>\n",
        "По росту\n",
        "</pre></td>\n",
        "        </tr>\n",
        " <tr>\n",
        "            <td rowspan=1 align=\"center\">\n",
        "                <pre>\n",
        "Введите рост трёх спортсменов:\n",
        "175 170 172\n",
        "</pre>\n",
        "            </td>\n",
        "            <td VALIGN=top><pre>\n",
        "Не по росту!\n",
        "</pre></td>\n",
        "        </tr>\n",
        "</table>\n"
      ]
    },
    {
      "cell_type": "code",
      "execution_count": null,
      "metadata": {
        "id": "BS7HhDejOkox"
      },
      "outputs": [],
      "source": [
        "# место для решения\n",
        "\n"
      ]
    },
    {
      "cell_type": "markdown",
      "metadata": {
        "id": "4UPh3nfSO6GU"
      },
      "source": [
        "### Задача 6\n",
        "\n",
        "Напишите программу, которая получает номер месяца и выводит соответствующее ему время года или сообщение об ошибке.\n",
        "\n",
        "\n",
        "Пример теста:\n",
        "\n",
        "\n",
        "<table>\n",
        "    <thead>\n",
        "        <tr>\n",
        "            <th>Ввод</th>\n",
        "            <th>Вывод</th>\n",
        "        </tr>\n",
        "    </thead>\n",
        "    <tbody>\n",
        "        <tr>\n",
        "            <td rowspan=1 align=\"center\">\n",
        "                <pre>\n",
        "Введите номер месяца:\n",
        "5\n",
        "</pre>\n",
        "            </td>\n",
        "            <td VALIGN=top><pre>\n",
        "Весна\n",
        "</pre></td>\n",
        "        </tr>\n",
        " <tr>\n",
        "            <td rowspan=1 align=\"center\">\n",
        "                <pre>\n",
        "Введите номер месяца:\n",
        "15\n",
        "</pre>\n",
        "            </td>\n",
        "            <td VALIGN=top><pre>\n",
        "Неверный номер месяца\n",
        "</pre></td>\n",
        "        </tr>\n",
        "</table>\n"
      ]
    },
    {
      "cell_type": "code",
      "execution_count": null,
      "metadata": {
        "id": "2wl5qLuqO6GV"
      },
      "outputs": [],
      "source": [
        "# место для решения\n",
        "\n"
      ]
    },
    {
      "cell_type": "markdown",
      "source": [
        "## Логические переменные\n",
        "\n",
        "Логическая переменная — это простое (атомарное) высказывание, ложность или истинность которого лежит вне рамок формальной логики.\n",
        "\n",
        "Принимает значение True(Истина) или  False(Ложь)"
      ],
      "metadata": {
        "id": "4vH8snL_Ocoe"
      }
    },
    {
      "cell_type": "markdown",
      "metadata": {
        "id": "WITomvIHPvak"
      },
      "source": [
        "### Задача 7\n",
        "\n",
        "Напишите программу, которая получает с клавиатуры целое число и записывает в логическую переменную значение «да» (True), если это число трёхзначное. После этого на экран выводится ответ на вопрос: «Верно ли, что было получено трёхзначное число?».\n",
        "\n",
        "\n",
        "Пример теста:\n",
        "\n",
        "\n",
        "<table>\n",
        "    <thead>\n",
        "        <tr>\n",
        "            <th>Ввод</th>\n",
        "            <th>Вывод</th>\n",
        "        </tr>\n",
        "    </thead>\n",
        "    <tbody>\n",
        "        <tr>\n",
        "            <td rowspan=1 align=\"center\">\n",
        "                <pre>\n",
        "Введите число:  165\n",
        "</pre>\n",
        "            </td>\n",
        "            <td VALIGN=top><pre>\n",
        "да\n",
        "</pre></td>\n",
        "        </tr>\n",
        " <tr>\n",
        "            <td rowspan=1 align=\"center\">\n",
        "                <pre>\n",
        "Введите число:  1651\n",
        "</pre>\n",
        "            </td>\n",
        "            <td VALIGN=top><pre>\n",
        "нет\n",
        "</pre></td>\n",
        "        </tr>\n",
        "</table>\n"
      ]
    },
    {
      "cell_type": "code",
      "execution_count": null,
      "metadata": {
        "id": "5bl43N0jPval"
      },
      "outputs": [],
      "source": [
        "# место для решения\n",
        "\n"
      ]
    },
    {
      "cell_type": "markdown",
      "metadata": {
        "id": "7VKBpnxKQCQd"
      },
      "source": [
        "### Задача 8\n",
        "\n",
        "Напишите программу, которая получает с клавиатуры трёхзначное число и записывает в логическую переменную значение «да» (True), если это все его цифры одинаковы. После этого на экран выводится ответ на вопрос: «Верно ли, что все цифры введённого числа одинаковы?»\n",
        "\n",
        "\n",
        "Пример теста:\n",
        "\n",
        "\n",
        "<table>\n",
        "    <thead>\n",
        "        <tr>\n",
        "            <th>Ввод</th>\n",
        "            <th>Вывод</th>\n",
        "        </tr>\n",
        "    </thead>\n",
        "    <tbody>\n",
        "        <tr>\n",
        "            <td rowspan=1 align=\"center\">\n",
        "                <pre>\n",
        "Введите число:  161\n",
        "</pre>\n",
        "            </td>\n",
        "            <td VALIGN=top><pre>\n",
        "нет\n",
        "</pre></td>\n",
        "        </tr>\n",
        " <tr>\n",
        "            <td rowspan=1 align=\"center\">\n",
        "                <pre>\n",
        "Введите число:  555\n",
        "</pre>\n",
        "            </td>\n",
        "            <td VALIGN=top><pre>\n",
        "да\n",
        "</pre></td>\n",
        "        </tr>\n",
        "</table>\n"
      ]
    },
    {
      "cell_type": "code",
      "execution_count": null,
      "metadata": {
        "id": "94_IEmdAQCQe"
      },
      "outputs": [],
      "source": [
        "# место для решения\n",
        "\n"
      ]
    },
    {
      "cell_type": "markdown",
      "metadata": {
        "id": "XOoHsXM5_mxF"
      },
      "source": [
        "### Подготовка к НЭ.\n",
        "\n",
        "#### Задача А02\n",
        "\n",
        "Реализуйте программу, которая проверяет, к какой языковой группе относится язык:\n",
        "\n",
        "Дан список gеrmanic, в который записаны некоторые языки из германской группы.\n",
        "Вводится язык, для которого нужно узнать языковую группу.\n",
        "Если язык входит в список germanic, то программа печатает строку \"Это язык из германской группы\". Эта фраза сохранена для вас в переменную germ_lang.\n",
        "Если язык не входит в список germanic, но его название оканчивается на \"ий\", то программа печатает строку \"Это какой-то знакомый язык\". Эта фраза сохранена для вас в переменную fam_lang.\n",
        "Во всех других случаях программа печатает \"Язык неизвестен\". Эта фраза сохранена для вас в переменную new_lang.\n",
        "\n",
        "<table>\n",
        "    <thead>\n",
        "        <tr>\n",
        "            <th>Ввод</th>\n",
        "            <th>Вывод</th>\n",
        "        </tr>\n",
        "    </thead>\n",
        "    <tbody>\n",
        "<tr>\n",
        "            <td rowspan=1 align=\"center\">\n",
        "                <pre>\n",
        "Китайский\n",
        "</pre>\n",
        "            </td>\n",
        "            <td VALIGN=top><pre>\n",
        "Это какой-то знакомый язык\n",
        "</pre></td>\n",
        "</tr>\n",
        "\n",
        "<tr>\n",
        "<td rowspan=1 align=\"center\">\n",
        "<pre>\n",
        "Голландский\n",
        "</pre>\n",
        "</td>\n",
        "<td VALIGN=top><pre>\n",
        "Это язык из германской группы\n",
        "</pre></td>\n",
        "</tr>\n",
        "\n",
        "<tr>\n",
        "            <td rowspan=1 align=\"center\">\n",
        "                <pre>\n",
        "Хинди\n",
        "</pre>\n",
        "            </td>\n",
        "            <td VALIGN=top><pre>\n",
        "Язык неизвестен\n",
        "</pre></td>\n",
        "        </tr>\n",
        "        </tbody>\n",
        "</table>\n"
      ]
    },
    {
      "cell_type": "code",
      "execution_count": null,
      "metadata": {
        "id": "lkdVaWad_mxF"
      },
      "outputs": [],
      "source": [
        "germanic = ['Голландский', 'Немецкий', 'Английский', 'Датский', 'Исландский']\n",
        "\n",
        "germ_lang = \"Это язык из германской группы\"\n",
        "fam_lang = \"Это какой-то знакомый язык\"\n",
        "new_lang =  \"Язык неизвестен\"\n",
        "\n",
        "# ваш код ниже\n"
      ]
    }
  ],
  "metadata": {
    "kernelspec": {
      "display_name": "MNE_EEG_env",
      "language": "python",
      "name": "mne_eeg_env"
    },
    "language_info": {
      "codemirror_mode": {
        "name": "ipython",
        "version": 3
      },
      "file_extension": ".py",
      "mimetype": "text/x-python",
      "name": "python",
      "nbconvert_exporter": "python",
      "pygments_lexer": "ipython3",
      "version": "3.12.2"
    },
    "orig_nbformat": 4,
    "colab": {
      "provenance": []
    }
  },
  "nbformat": 4,
  "nbformat_minor": 0
}