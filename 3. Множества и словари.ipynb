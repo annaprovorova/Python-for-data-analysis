{
 "cells": [
  {
   "cell_type": "markdown",
   "metadata": {},
   "source": [
    "# Множества и словари\n",
    "\n",
    "Ссылка на материал на Google Colab https://colab.research.google.com/drive/1kEUpO7axMYTLxv_0RAUMYWfYb8k_vFzP?usp=sharing"
   ]
  },
  {
   "cell_type": "markdown",
   "metadata": {},
   "source": [
    "#### Множество\n",
    "\n",
    "**Множество** — составной тип данных, представляющий собой несколько значений (элементов множества) под одним именем. Этот тип называется *set*, не создавайте, пожалуйста, переменные с таким именем! Чтобы задать множество, нужно в фигурных скобках перечислить его элементы.\n",
    "\n",
    "*Важная особенность:* элементы во множестве НЕ ПРОНУМЕРОВАНЫ!"
   ]
  },
  {
   "cell_type": "code",
   "execution_count": 11,
   "metadata": {},
   "outputs": [
    {
     "name": "stdout",
     "output_type": "stream",
     "text": [
      "{'apple', 'banana', 'melon'}\n"
     ]
    }
   ],
   "source": [
    "fruits = {'apple', 'banana', 'melon'}\n",
    "print(fruits)"
   ]
  },
  {
   "cell_type": "code",
   "execution_count": 7,
   "metadata": {},
   "outputs": [
    {
     "name": "stdout",
     "output_type": "stream",
     "text": [
      "set()\n"
     ]
    }
   ],
   "source": [
    "empty = set()  #создание пустого множества\n",
    "print(empty)"
   ]
  },
  {
   "cell_type": "markdown",
   "metadata": {},
   "source": [
    "Элементами множества могут быть различные объекты в Python(строки, вещественные и целые числа, булевы переменные), но не списки или коллекции.\n",
    "\n",
    "Может ли элемент входить в множество несколько раз? Это было бы странно, так как совершенно непонятно, как отличить один элемент от другого (нет нумерации).\n",
    "\n",
    "**Поэтому множество содержит каждый элемент только один раз.**"
   ]
  },
  {
   "cell_type": "code",
   "execution_count": 12,
   "metadata": {},
   "outputs": [
    {
     "name": "stdout",
     "output_type": "stream",
     "text": [
      "{'cat', 4, 5, 'dog'}\n"
     ]
    }
   ],
   "source": [
    "some_set = {5, 5, 4, 4, 'cat', 4, 'dog', 'cat'}\n",
    "print(some_set)"
   ]
  },
  {
   "cell_type": "markdown",
   "metadata": {},
   "source": [
    "#### Операции над множеством"
   ]
  },
  {
   "cell_type": "code",
   "execution_count": 13,
   "metadata": {},
   "outputs": [
    {
     "name": "stdout",
     "output_type": "stream",
     "text": [
      "Вывести элементы множества {'pen', 'ruler', 'pencil'}\n",
      "Длина множества: 3\n",
      "pen\n",
      "ruler\n",
      "pencil\n"
     ]
    }
   ],
   "source": [
    "my_set = {'pencil', 'pen', 'ruler'}\n",
    "print('Вывести элементы множества', my_set)\n",
    "print('Длина множества:', len(my_set))\n",
    "\n",
    "#Перебрать все элементы множества можно с помощью цикла for\n",
    "for elem in my_set:\n",
    "    print(elem)"
   ]
  },
  {
   "cell_type": "markdown",
   "metadata": {},
   "source": [
    "#### Мини-практика\n",
    "\n",
    "С клавиатуры в строку вводится список. Преобразуйте его во множество и выведите на экран элементы множества в столбик.\n",
    "\n",
    "Пример теста:\n",
    "\n",
    "\n",
    "<table>\n",
    "    <thead>\n",
    "        <tr>\n",
    "            <th>Ввод</th>\n",
    "            <th>Вывод</th>\n",
    "        </tr>\n",
    "    </thead>\n",
    "    <tbody>\n",
    "        <tr>\n",
    "            <td>\n",
    "                <pre>1 2 3 1 2 3 кошка картошка кошка</pre>\n",
    "            </td>\n",
    "            <td VALIGN=top><pre>???</pre></td>\n",
    "        </tr>\n",
    "</table>"
   ]
  },
  {
   "cell_type": "code",
   "execution_count": null,
   "metadata": {},
   "outputs": [],
   "source": [
    "#напишите программу и протестируйте её в этой ячейке\n",
    "#обязательно придумайте свои тесты\n",
    "\n",
    "\n"
   ]
  },
  {
   "cell_type": "markdown",
   "metadata": {},
   "source": [
    "Обратите внимание, что порядок элементов в множестве при создании и привыводе его на печать ОТЛИЧАЮТСЯ. Более того, он может отличаться каждый раз при печати элементов множества. Напомним, элементы в множестве СОВСЕМ ВООБЩЕ НИКАК НЕ УПОРЯДОЧЕНЫ."
   ]
  },
  {
   "cell_type": "code",
   "execution_count": 14,
   "metadata": {},
   "outputs": [
    {
     "name": "stdout",
     "output_type": "stream",
     "text": [
      "Элемента нет в множестве\n"
     ]
    }
   ],
   "source": [
    "# Проверить наличие элемента в множестве\n",
    "elem = 'eraser'\n",
    "if elem in my_set:\n",
    "    print('Элемент есть в множестве')\n",
    "else:\n",
    "    print('Элемента нет в множестве')"
   ]
  },
  {
   "cell_type": "code",
   "execution_count": 16,
   "metadata": {},
   "outputs": [
    {
     "ename": "KeyError",
     "evalue": "'pencil'",
     "output_type": "error",
     "traceback": [
      "\u001b[1;31m---------------------------------------------------------------------------\u001b[0m",
      "\u001b[1;31mKeyError\u001b[0m                                  Traceback (most recent call last)",
      "Cell \u001b[1;32mIn[16], line 9\u001b[0m\n\u001b[0;32m      7\u001b[0m my_set\u001b[39m.\u001b[39mdiscard(\u001b[39m'\u001b[39m\u001b[39mpen\u001b[39m\u001b[39m'\u001b[39m)   \u001b[39m# Удалён\u001b[39;00m\n\u001b[0;32m      8\u001b[0m my_set\u001b[39m.\u001b[39mdiscard(\u001b[39m'\u001b[39m\u001b[39ma\u001b[39m\u001b[39m'\u001b[39m)     \u001b[39m# Не удалён, ошибки нет\u001b[39;00m\n\u001b[1;32m----> 9\u001b[0m my_set\u001b[39m.\u001b[39;49mremove(\u001b[39m'\u001b[39;49m\u001b[39mpencil\u001b[39;49m\u001b[39m'\u001b[39;49m) \u001b[39m# Удалён\u001b[39;00m\n\u001b[0;32m     10\u001b[0m \u001b[39mprint\u001b[39m(my_set)           \u001b[39m# В множестве остались 2 элемента\u001b[39;00m\n\u001b[0;32m     11\u001b[0m my_set\u001b[39m.\u001b[39mremove(\u001b[39m'\u001b[39m\u001b[39ma\u001b[39m\u001b[39m'\u001b[39m)      \u001b[39m# Не удалён, ошибка KeyError\u001b[39;00m\n",
      "\u001b[1;31mKeyError\u001b[0m: 'pencil'"
     ]
    }
   ],
   "source": [
    "# Добавить элемент в множество\n",
    "\n",
    "new_elem = 'eraser'\n",
    "my_set.add(new_elem)\n",
    "\n",
    "# Удалить элемент из множества (2 способа)\n",
    "my_set.discard('pen')   # Удалён\n",
    "my_set.discard('a')     # Не удалён, ошибки нет\n",
    "my_set.remove('pencil') # Удалён\n",
    "print(my_set)           # В множестве остались 2 элемента\n",
    "my_set.remove('a')      # Не удалён, ошибка KeyError"
   ]
  },
  {
   "cell_type": "markdown",
   "metadata": {},
   "source": [
    "А есть ещё один метот удаления элемента из множества: Метод pop удаляет из множества случайный элемент и возвращает его значение."
   ]
  },
  {
   "cell_type": "code",
   "execution_count": 17,
   "metadata": {},
   "outputs": [
    {
     "name": "stdout",
     "output_type": "stream",
     "text": [
      "до удаления: {'pen', 'ruler', 'pencil'}\n",
      "удалённый элемент: pen\n",
      "после удаления: {'ruler', 'pencil'}\n"
     ]
    }
   ],
   "source": [
    "my_set = {'pencil', 'pen', 'ruler'}\n",
    "print('до удаления:', my_set)\n",
    "elem = my_set.pop()\n",
    "print('удалённый элемент:', elem)\n",
    "print('после удаления:', my_set)"
   ]
  },
  {
   "cell_type": "markdown",
   "metadata": {},
   "source": [
    "### Практическое задание № 1\n",
    "\n",
    "Ученые часто славятся своей рассеянностью. И немудрено – уже столько всего открыто, разве упомнишь! И вот, когда обнаруживают новый вид каких-нибудь гусениц, нужно придумать им название, но не повториться.\n",
    "\n",
    "Напишите программу, которая проверяет, не было ли название использовано раньше.\n",
    "\n",
    "**Формат ввода**\n",
    "\n",
    "Вводится количество существующих названий, затем сами названия гусениц.\n",
    "\n",
    "**Формат вывода**\n",
    "\n",
    "Для каждого предложенного названия вывести, использовалось ли оно раньше, то есть ДА или НЕТ.\n",
    "\n",
    "Пример теста:\n",
    "\n",
    "\n",
    "<table>\n",
    "    <thead>\n",
    "        <tr>\n",
    "            <th>Ввод</th>\n",
    "            <th>Вывод</th>\n",
    "        </tr>\n",
    "    </thead>\n",
    "    <tbody>\n",
    "        <tr>\n",
    "            <td>\n",
    "                <pre>6\n",
    "Lonomia_Obliqua\n",
    "Limacodidae_Euclidae\n",
    "Acharia_Stimulea\n",
    "Coscinocera_Hercules\n",
    "Limacodidae_Euclidae\n",
    "Limacodidae_Euclidae</pre>\n",
    "            </td>\n",
    "            <td VALIGN=top><pre>НЕТ\n",
    "НЕТ\n",
    "НЕТ\n",
    "НЕТ\n",
    "ДА\n",
    "ДА</pre></td>\n",
    "        </tr>\n",
    "</table>"
   ]
  },
  {
   "cell_type": "code",
   "execution_count": null,
   "metadata": {},
   "outputs": [],
   "source": [
    "#напишите программу и протестируйте её в этой ячейке\n",
    "#обязательно придумайте свои тесты\n",
    "\n",
    "\n"
   ]
  },
  {
   "attachments": {
    "image.png": {
     "image/png": "[encoded data removed]"
    }
   },
   "cell_type": "markdown",
   "metadata": {},
   "source": [
    "#### Операции над двумя множествами\n",
    "\n",
    "![image.png](attachment:image.png)\n",
    "\n",
    "Объединение двух множеств включает в себя все элементы, которые есть хотя бы в одном из них. Для этой операции существует метод union или оператор |:"
   ]
  },
  {
   "cell_type": "code",
   "execution_count": 19,
   "metadata": {},
   "outputs": [
    {
     "name": "stdout",
     "output_type": "stream",
     "text": [
      "{'d', 'a', 'c', 'b'}\n"
     ]
    }
   ],
   "source": [
    "my_set1 = {'a', 'b', 'c'}\n",
    "my_set2 = {'b', 'c', 'd'}\n",
    "\n",
    "\n",
    "union = my_set1.union(my_set2)\n",
    "union = my_set1 | my_set2\n",
    "\n",
    "print(union)"
   ]
  },
  {
   "attachments": {
    "image.png": {
     "image/png": "[encoded data removed]"
    }
   },
   "cell_type": "markdown",
   "metadata": {},
   "source": [
    "![image.png](attachment:image.png)\n",
    "\n",
    "Пересечение двух множеств включает в себя все элементы, которые есть в обоих множествах:"
   ]
  },
  {
   "cell_type": "code",
   "execution_count": 21,
   "metadata": {},
   "outputs": [
    {
     "name": "stdout",
     "output_type": "stream",
     "text": [
      "{'c', 'b'}\n"
     ]
    }
   ],
   "source": [
    "intersection = my_set1.intersection(my_set2)\n",
    "intersection = my_set1 & my_set2 #аналог\n",
    "\n",
    "print(intersection)"
   ]
  },
  {
   "attachments": {
    "image.png": {
     "image/png": "[encoded data removed]"
    }
   },
   "cell_type": "markdown",
   "metadata": {},
   "source": [
    "![image.png](attachment:image.png)\n",
    "\n",
    "Разность двух множеств включает в себя все элементы, которые есть в первом множестве, но которых нет во втором:"
   ]
  },
  {
   "cell_type": "code",
   "execution_count": 22,
   "metadata": {},
   "outputs": [
    {
     "name": "stdout",
     "output_type": "stream",
     "text": [
      "{'a'}\n"
     ]
    }
   ],
   "source": [
    "diff = my_set1.difference(my_set2)\n",
    "diff = my_set1 - my_set2 # аналог\n",
    "\n",
    "print(diff)"
   ]
  },
  {
   "cell_type": "markdown",
   "metadata": {},
   "source": [
    "### Практическое задание № 2 (Материалы подготовки к НЭ, задание А-05)\n",
    "\n",
    "Реализуйте программу, которая поможет Ефросинье выбрать IT-компанию для стажировки.\n",
    "\n",
    "На первой строке через запятую и пробел вводятся названия компаний, которые вошли в топ-10 работодателей. \n",
    "\n",
    "На второй строке через запятую и пробел вводятся названия компаний, в которых работать надо будет с использованием языка Python. \n",
    "\n",
    "На третьей строке через запятую и пробел вводятся названия компаний, в которых стажировка оплачивается. \n",
    "\n",
    "Гарантируется, что названия компаний в каждой строке уникальные. \n",
    "*Любая строка может оказаться пустой.*\n",
    "Выведите через запятую и пробел в алфавитном порядке названия компаний с оплачиваемой стажировкой, которые при этом не входят в топ-10 работодателей, и в которых надо будет работать с использованием Python.\n",
    "\n",
    "\n",
    "Пример теста:\n",
    "\n",
    "\n",
    "<table>\n",
    "    <thead>\n",
    "        <tr>\n",
    "            <th>Ввод</th>\n",
    "            <th>Вывод</th>\n",
    "        </tr>\n",
    "    </thead>\n",
    "    <tbody>\n",
    "        <tr>\n",
    "            <td>\n",
    "                <pre>ВК, Сбербанк\n",
    "ПИК, Тинькофф, Сбербанк\n",
    "Тинькофф, ПИК, ВК, Перекресток</pre>\n",
    "            </td>\n",
    "            <td VALIGN=top><pre>ПИК, Тинькофф</pre></td>\n",
    "        </tr>\n",
    "         <tr>\n",
    "            <td>\n",
    "                <pre>ПИК, Сбербанк, Тинькофф, Альфа\n",
    "ВК, ПИК, Самолет, Яндекс, ВТБ, Альфа\n",
    "Альфа, ПИК</pre>\n",
    "            </td>\n",
    "            <td VALIGN=top><pre></pre></td>\n",
    "        </tr>\n",
    "         <tr>\n",
    "            <td>\n",
    "                <pre>Сбербанк, Тинькофф\n",
    "ВК, ПИК, Самолет, Яндекс, ВТБ, Альфа\n",
    "Альфа, ПИК, Самолет</pre>\n",
    "            </td>\n",
    "            <td VALIGN=top><pre>Альфа, ПИК, Самолет</pre></td>\n",
    "        </tr>\n",
    "</table>"
   ]
  },
  {
   "cell_type": "code",
   "execution_count": null,
   "metadata": {},
   "outputs": [],
   "source": [
    "#напишите программу и протестируйте её в этой ячейке\n",
    "#обязательно придумайте свои тесты\n",
    "\n",
    "\n"
   ]
  },
  {
   "cell_type": "markdown",
   "metadata": {},
   "source": [
    "#### Мини-задание (дополнительно)\n",
    "\n",
    "Напишите программу, которая выводит все цифры, которых не было во введенном числе. Выводить в одну строку через пробел, порядок не важен\n",
    "\n",
    "<table>\n",
    "    <thead>\n",
    "        <tr>\n",
    "            <th>Ввод</th>\n",
    "            <th>Вывод</th>\n",
    "        </tr>\n",
    "    </thead>\n",
    "    <tbody>\n",
    "        <tr>\n",
    "            <td>\n",
    "                <pre>100500</pre>\n",
    "            </td>\n",
    "            <td VALIGN=top><pre>6 2 7 3 8 9 4</pre></td>\n",
    "        </tr>\n",
    "\n",
    "</table>"
   ]
  },
  {
   "cell_type": "code",
   "execution_count": null,
   "metadata": {},
   "outputs": [],
   "source": [
    "#напишите программу и протестируйте её в этой ячейке\n",
    "#обязательно придумайте свои тесты\n",
    "\n",
    "\n"
   ]
  },
  {
   "cell_type": "markdown",
   "metadata": {},
   "source": [
    "#### Сравнение множеств\n",
    "\n",
    "Множества считаются равными, если они содержат одинаковые наборы элементов. Равенство множеств, как в случае с числами и строками, обозначается оператором ==.\n",
    "\n",
    "Неравенство множеств обозначается оператором !=. Он работает противоположно оператору ==.\n",
    "\n",
    "Подмножество — некоторая выборка элементов множества, которая может быть как меньше множества, так и совпадать с ним, на что указывают символы «<» и «=» в операторе <=. Наоборот, надмножество включает все элементы некоторого множества и, возможно, какие-то еще.\n"
   ]
  },
  {
   "cell_type": "code",
   "execution_count": 23,
   "metadata": {},
   "outputs": [
    {
     "name": "stdout",
     "output_type": "stream",
     "text": [
      "True\n",
      "True\n",
      "True\n",
      "False\n"
     ]
    }
   ],
   "source": [
    "s1 = {'a', 'b', 'c'}\n",
    "print(s1 <= s1) \n",
    " \n",
    "s2 = {'a', 'b'}\n",
    "print(s2 < s1) \n",
    "s3 = {'a'}\n",
    "print(s3 <= s1) \n",
    "s4 = {'a', 'z'}\n",
    "print(s4 <= s1) "
   ]
  },
  {
   "cell_type": "markdown",
   "metadata": {},
   "source": [
    "#### Словарь\n",
    "\n",
    "Словарь (в Python он называется dict) — тип данных, позволяющий, как и список, хранить много данных. В отличие от списка, в словаре для каждого элемента можно самому определить «индекс», по которому он будет доступен. Этот индекс называется *ключом*."
   ]
  },
  {
   "cell_type": "code",
   "execution_count": 25,
   "metadata": {},
   "outputs": [
    {
     "name": "stdout",
     "output_type": "stream",
     "text": [
      "{'Россия': 'Москва', 'Великобритания': 'Лондон', 'Лихтенштейн': 'Вадуц'}\n"
     ]
    }
   ],
   "source": [
    "capitals = {\n",
    "    'Россия' : 'Москва',\n",
    "    'Великобритания': 'Лондон',\n",
    "    'Лихтенштейн': 'Вадуц'\n",
    "}\n",
    "\n",
    "print(capitals)"
   ]
  },
  {
   "cell_type": "markdown",
   "metadata": {},
   "source": [
    "Элементы словаря перечисляются в фигурных скобках (как и элементы множества!) и разделяются запятой. До двоеточия указывается ключ, а после двоеточия — значение, доступное в словаре по этому ключу."
   ]
  },
  {
   "cell_type": "code",
   "execution_count": 26,
   "metadata": {},
   "outputs": [],
   "source": [
    "# создание пустого словаря\n",
    "\n",
    "d = {}\n",
    "d = dict()"
   ]
  },
  {
   "cell_type": "markdown",
   "metadata": {},
   "source": [
    "**Обращение к элементу словаря**\n",
    "\n",
    "После инициализации словаря мы можем быстро получать информацию о столице государтсва:"
   ]
  },
  {
   "cell_type": "code",
   "execution_count": 27,
   "metadata": {},
   "outputs": [
    {
     "name": "stdout",
     "output_type": "stream",
     "text": [
      "Вадуц\n"
     ]
    }
   ],
   "source": [
    "print(capitals['Лихтенштейн'])"
   ]
  },
  {
   "cell_type": "markdown",
   "metadata": {},
   "source": [
    "Обращение к элементу словаря выглядит как обращение к элементу списка, только вместо целочисленного индекса используется ключ. В качестве ключа можно указать выражение: Python вычислит его значение, прежде чем обратится к искомому элементу."
   ]
  },
  {
   "cell_type": "code",
   "execution_count": 28,
   "metadata": {},
   "outputs": [
    {
     "ename": "KeyError",
     "evalue": "'Франция'",
     "output_type": "error",
     "traceback": [
      "\u001b[1;31m---------------------------------------------------------------------------\u001b[0m",
      "\u001b[1;31mKeyError\u001b[0m                                  Traceback (most recent call last)",
      "Cell \u001b[1;32mIn[28], line 3\u001b[0m\n\u001b[0;32m      1\u001b[0m \u001b[39m# а если ключа нет в словаре?\u001b[39;00m\n\u001b[1;32m----> 3\u001b[0m \u001b[39mprint\u001b[39m(capitals[\u001b[39m'\u001b[39;49m\u001b[39mФранция\u001b[39;49m\u001b[39m'\u001b[39;49m])\n",
      "\u001b[1;31mKeyError\u001b[0m: 'Франция'"
     ]
    }
   ],
   "source": [
    "# а если ключа нет в словаре?\n",
    "\n",
    "print(capitals['Франция'])"
   ]
  },
  {
   "cell_type": "markdown",
   "metadata": {},
   "source": [
    "### Добавление и удаление элементов\n",
    "\n",
    "Важная особенность словаря — его динамичность. Мы можем добавлять новые элементы, изменять их или удалять. Изменяются элементы точно так же, как в списках, только вместо целочисленного индекса в квадратных скобках указывается ключ:"
   ]
  },
  {
   "cell_type": "code",
   "execution_count": 29,
   "metadata": {},
   "outputs": [
    {
     "name": "stdout",
     "output_type": "stream",
     "text": [
      "{'Россия': 'Санкт-Петербург', 'Великобритания': 'Лондон', 'Лихтенштейн': 'Вадуц', 'Франция': 'Париж'}\n"
     ]
    }
   ],
   "source": [
    "capitals['Франция'] = 'Париж'\n",
    "\n",
    "capitals['Россия'] = 'Санкт-Петербург'\n",
    "\n",
    "print(capitals)"
   ]
  },
  {
   "cell_type": "markdown",
   "metadata": {},
   "source": [
    "Для удаления элементов из словаря можно использовать уже знакомый нам метод pop или инстркцию del:"
   ]
  },
  {
   "cell_type": "code",
   "execution_count": 30,
   "metadata": {},
   "outputs": [
    {
     "name": "stdout",
     "output_type": "stream",
     "text": [
      "{'Великобритания': 'Лондон', 'Лихтенштейн': 'Вадуц', 'Франция': 'Париж'}\n"
     ]
    }
   ],
   "source": [
    "del capitals['Россия']\n",
    "print(capitals)"
   ]
  },
  {
   "cell_type": "code",
   "execution_count": 31,
   "metadata": {},
   "outputs": [
    {
     "data": {
      "text/plain": [
       "'Вадуц'"
      ]
     },
     "execution_count": 31,
     "metadata": {},
     "output_type": "execute_result"
    }
   ],
   "source": [
    "deleted_value = capitals.pop('Лихтенштейн')\n",
    "deleted_value"
   ]
  },
  {
   "cell_type": "markdown",
   "metadata": {},
   "source": [
    "Наличие элемента в словаре проверяется с помощью оператора in:"
   ]
  },
  {
   "cell_type": "code",
   "execution_count": 32,
   "metadata": {},
   "outputs": [
    {
     "name": "stdout",
     "output_type": "stream",
     "text": [
      "Если бы мы знали, что это такое, но мы не знаем, что это такое\n"
     ]
    }
   ],
   "source": [
    "if 'Лихтенштейн' in capitals:\n",
    "    print('Мы знаем столицу Лихтенштейна')\n",
    "else:\n",
    "    print('Если бы мы знали, что это такое, но мы не знаем, что это такое')"
   ]
  },
  {
   "cell_type": "markdown",
   "metadata": {},
   "source": [
    "**Метод .keys()**\n",
    "\n",
    "С помощью метода .keys() можно получить список всех ключей словаря:"
   ]
  },
  {
   "cell_type": "code",
   "execution_count": 33,
   "metadata": {},
   "outputs": [
    {
     "name": "stdout",
     "output_type": "stream",
     "text": [
      "dict_keys(['Великобритания', 'Франция'])\n"
     ]
    }
   ],
   "source": [
    "print(capitals.keys())"
   ]
  },
  {
   "cell_type": "markdown",
   "metadata": {},
   "source": [
    "**Метод .values()**\n",
    "\n",
    "Есть и парный метод .values(), возвращающий все значения словаря:"
   ]
  },
  {
   "cell_type": "code",
   "execution_count": 34,
   "metadata": {},
   "outputs": [
    {
     "name": "stdout",
     "output_type": "stream",
     "text": [
      "dict_values(['Лондон', 'Париж'])\n"
     ]
    }
   ],
   "source": [
    "print(capitals.values())"
   ]
  },
  {
   "cell_type": "markdown",
   "metadata": {},
   "source": [
    "**Метод .items()**\n",
    "\n",
    "Если вы хотите перебрать элементы словаря d так, чтобы в переменной key оказывался ключ, а в value — соответствующее ему значение, это можно сделать с помощью метода .items() и цикла for.\n"
   ]
  },
  {
   "cell_type": "code",
   "execution_count": 35,
   "metadata": {},
   "outputs": [
    {
     "name": "stdout",
     "output_type": "stream",
     "text": [
      "Столицей государства Великобритания является Лондон\n",
      "Столицей государства Франция является Париж\n"
     ]
    }
   ],
   "source": [
    "for key, val in capitals.items():\n",
    "    print(f'Столицей государства {key} является {val}')"
   ]
  },
  {
   "cell_type": "markdown",
   "metadata": {},
   "source": [
    "### Практическое задание № 3\n",
    "\n",
    "Орнитологи изучали поведение птиц и делали записи. Напишите программу, систематизирующую наблюдения за птицами.\n",
    "\n",
    "**Формат ввода**\n",
    "\n",
    "Эта наука изучает поведение птиц. Напишите программу, систематизирующую наблюдения за птицами.\n",
    "\n",
    "**Формат вывода**\n",
    "\n",
    "Выведите словарь с ключами названиями птиц и значениями – их общим количеством.\n",
    "\n",
    "Пример теста:\n",
    "\n",
    "\n",
    "<table>\n",
    "    <thead>\n",
    "        <tr>\n",
    "            <th>Ввод</th>\n",
    "            <th>Вывод</th>\n",
    "        </tr>\n",
    "    </thead>\n",
    "    <tbody>\n",
    "        <tr>\n",
    "            <td>\n",
    "                <pre>Swallow: 2\n",
    "Goldfinch: 10\n",
    "Heron: 5\n",
    "Heron: 3\n",
    "Swallow: 12\n",
    "Goldfinch: 1\n",
    "Swallow: 1</pre>\n",
    "            </td>\n",
    "            <td VALIGN=top><pre>{'Swallow': 15, 'Goldfinch': 11, 'Heron': 8}</pre></td>\n",
    "        </tr>\n",
    "</table>"
   ]
  },
  {
   "cell_type": "code",
   "execution_count": null,
   "metadata": {},
   "outputs": [],
   "source": [
    "#напишите программу и протестируйте её в этой ячейке\n",
    "#обязательно придумайте свои тесты\n",
    "\n",
    "\n"
   ]
  },
  {
   "cell_type": "markdown",
   "metadata": {},
   "source": [
    "### Практическое задание № 4 (Подготовка к НЭ, А-06)\n",
    "\n",
    "Реализуйте программу, находящую филиалы сети магазинов с высоким уровнем прибыли:\n",
    "\n",
    "Дан словарь shops, в котором ключами являются названия магазинов (строки), а значениями — списки с суммами прибыли за последние 3 месяца (целые числа). Гарантируется, что названия магазинов не повторяются.\n",
    "Вводится сумма прибыли, ниже которой содержание магазина становится нерентабельным. \n",
    "Программа проверяет, была ли у магазина хотя бы в одном месяце слишком низкая прибыль (меньше введенного значения), и выводит названия таких магазинов, каждое на новой строке. Если таких магазинов нет — программа ничего не выводит.\n",
    "\n",
    "Пример теста:\n",
    "\n",
    "\n",
    "<table>\n",
    "    <thead>\n",
    "        <tr>\n",
    "            <th>Ввод</th>\n",
    "            <th>Вывод</th>\n",
    "        </tr>\n",
    "    </thead>\n",
    "    <tbody>\n",
    "        <tr>\n",
    "            <td>\n",
    "                <pre>11000</pre>\n",
    "            </td>\n",
    "            <td VALIGN=top><pre>Монеточка\n",
    "Дорожный\n",
    "Букварь вкусов\n",
    "СладкоВилл</pre></td>\n",
    "        </tr>\n",
    "\n",
    "<tr>\n",
    "            <td>\n",
    "                <pre>4000</pre>\n",
    "            </td>\n",
    "            <td VALIGN=top><pre>Монеточка\n",
    "Дорожный</pre></td>\n",
    "        </tr>\n",
    "                <tr>\n",
    "            <td>\n",
    "                <pre>1000</pre>\n",
    "            </td>\n",
    "            <td VALIGN=top><pre></pre></td>\n",
    "        </tr>\n",
    "</table>"
   ]
  },
  {
   "cell_type": "code",
   "execution_count": null,
   "metadata": {},
   "outputs": [],
   "source": [
    "#напишите программу и протестируйте её в этой ячейке\n",
    "#обязательно придумайте свои тесты\n",
    "\n",
    "\n"
   ]
  },
  {
   "cell_type": "markdown",
   "metadata": {},
   "source": [
    "### Практическое задание № 5 (Подготовка к НЭ, B-03)\n",
    "\n",
    "Пете задали список книг для чтения на лето. Он очень не любит читать и хочет выбрать только те, где меньше 200 страниц, а также распределить книги от самой сложной (больше всего страниц) к самой простой (меньше всего страниц). \n",
    "\n",
    "**ФОРМАТ ВВОДА**\n",
    "\n",
    "Вводится информация о каждой книге в формате '<книга>-<количество страниц>'.  Между собой информация о книгах разделена точкой с запятой и пробелом. \n",
    "Гарантируется, что названия книг не повторяются.\n",
    "Гарантируется, что строка состоит минимум из информации об одной книге.\n",
    "\n",
    "**ФОРМАТ ВЫВОДА**\n",
    "\n",
    "Названия книг в порядке от большего количества страниц к меньшему.\n",
    "Каждое название должно выводиться с новой строки.\n",
    "Если количество страниц одинаковое, то названия идут в обратном алфавитном порядке.\n",
    "\n",
    "Пример теста:\n",
    "\n",
    "\n",
    "<table>\n",
    "    <thead>\n",
    "        <tr>\n",
    "            <th>Ввод</th>\n",
    "            <th>Вывод</th>\n",
    "        </tr>\n",
    "    </thead>\n",
    "    <tbody>\n",
    "        <tr>\n",
    "            <td>\n",
    "                <pre>Любимый сад-200, Как сдать ЕГЭ?-120, Сто рецептов к учебе-120, Мой рюкзак-145, Программирование для всех-450, 11 класс-160</pre>\n",
    "            </td>\n",
    "            <td VALIGN=top><pre>11 класс\n",
    "Мой рюкзак\n",
    "Сто рецептов к учебе\n",
    "Как сдать ЕГЭ?</pre></td>\n",
    "        </tr>\n",
    "\n",
    "<tr>\n",
    "            <td>\n",
    "                <pre>Программирование для всех-450</pre>\n",
    "            </td>\n",
    "            <td VALIGN=top><pre></pre></td>\n",
    "        </tr>\n",
    "                <tr>\n",
    "            <td>\n",
    "                <pre>Как поступить в ВУЗ?-199, Сто рецептов к учебе-120</pre>\n",
    "            </td>\n",
    "            <td VALIGN=top><pre>11 класс\n",
    "Мой рюкзак\n",
    "Сто рецептов к учебе\n",
    "Как сдать ЕГЭ?</pre></td>\n",
    "        </tr>\n",
    "</table>"
   ]
  },
  {
   "cell_type": "code",
   "execution_count": null,
   "metadata": {},
   "outputs": [],
   "source": [
    "#напишите программу и протестируйте её в этой ячейке\n",
    "#обязательно придумайте свои тесты\n",
    "\n",
    "\n"
   ]
  },
  {
   "cell_type": "markdown",
   "metadata": {},
   "source": [
    "# Задания для самостоятельного решения\n",
    "\n",
    "1. Мария Ивановна хочет подсчитать суммарный балл своих учеников за экзамен и определить самого лучшего ученика в классе. \n",
    "\n",
    "**ФОРМАТ ВВОДА**\n",
    "\n",
    "На первой строке через пробел вводятся имена учеников. \n",
    "На второй строке вводятся соответствующая ученикам информация об их оценках за три части экзамена в формате '<оценка 1>-<оценка 2>-<оценка 3>'.  Между собой информация разделена пробелами. \n",
    "Гарантируется, что имена учеников не повторяются.\n",
    "Гарантируется, что строки состоят минимум из информации об одном ученике.\n",
    "\n",
    "**ФОРМАТ ВЫВОДА**\n",
    "\n",
    "Имя ученика с самым высоким баллом.\n",
    "Гарантируется, что такой ученик только один.\n",
    "\n",
    "Пример теста:\n",
    "\n",
    "\n",
    "<table>\n",
    "    <thead>\n",
    "        <tr>\n",
    "            <th>Ввод</th>\n",
    "            <th>Вывод</th>\n",
    "        </tr>\n",
    "    </thead>\n",
    "    <tbody>\n",
    "        <tr>\n",
    "            <td>\n",
    "                <pre>Алина Маша Кристина Анастасия Валерия Игорь\n",
    "30-10-20 78-23-43 15-18-10 18-33-87 7-29-34 90-38-30</pre>\n",
    "            </td>\n",
    "            <td VALIGN=top><pre>Игорь</pre></td>\n",
    "        </tr>\n",
    "\n",
    "<tr>\n",
    "            <td>\n",
    "                <pre>Марина\n",
    "12-18-19</pre>\n",
    "            </td>\n",
    "            <td VALIGN=top><pre>Марина</pre></td>\n",
    "        </tr>\n",
    "                <tr>\n",
    "            <td>\n",
    "                <pre>Люба Ира Лера\n",
    "7-9-2 89-19-20 23-21-91</pre>\n",
    "            </td>\n",
    "            <td VALIGN=top><pre>Лера</pre></td>\n",
    "        </tr>\n",
    "</table>"
   ]
  },
  {
   "cell_type": "code",
   "execution_count": null,
   "metadata": {},
   "outputs": [],
   "source": [
    "#напишите программу и протестируйте её в этой ячейке\n",
    "#обязательно придумайте свои тесты\n",
    "\n",
    "\n"
   ]
  },
  {
   "cell_type": "markdown",
   "metadata": {},
   "source": [
    "2. Вы работаете аналитиком в торговой сети и изучаете суммарную прибыль по каждой из категории товаров. Найдите товар, приносящий максимальную суммарную прибыль. \n",
    "\n",
    "**ФОРМАТ ВВОДА**\n",
    "\n",
    "Записи о продаже товаров: название товара и, через запятую, полученная с этой продажи прибыль (целое число). Каждая запись вводится с новой строки. Название товара может содержать любые символы, кроме запятой.\n",
    "Один товар могут продавать любое количество раз, но в каждой строке указывается информация только про одну продажу.\n",
    "Когда записи заканчиваются, на отдельной строке вводится слово \"END\". \n",
    "\n",
    "**ФОРМАТ ВЫВОДА**\n",
    "\n",
    "Название товара, который принес наибольшую суммарную прибыль и, через пробел, сумма этой прибыли.\n",
    "Гарантируется, что такой товар только один.\n",
    "\n",
    "Пример теста:\n",
    "\n",
    "\n",
    "<table>\n",
    "    <thead>\n",
    "        <tr>\n",
    "            <th>Ввод</th>\n",
    "            <th>Вывод</th>\n",
    "        </tr>\n",
    "    </thead>\n",
    "    <tbody>\n",
    "        <tr>\n",
    "            <td>\n",
    "                <pre>Шоколад,1000\n",
    "Мармеладки,600\n",
    "Шоколад,6000\n",
    "Киндер-сюрприз,1000\n",
    "Мармеладки,300\n",
    "END</pre>\n",
    "            </td>\n",
    "            <td VALIGN=top><pre>Шоколад 7000</pre></td>\n",
    "        </tr>\n",
    "\n",
    "<tr>\n",
    "            <td>\n",
    "                <pre>Шоколад,1000\n",
    "END</pre>\n",
    "            </td>\n",
    "            <td VALIGN=top><pre>Шоколад 1000</pre></td>\n",
    "        </tr>\n",
    "      \n",
    "</table>"
   ]
  },
  {
   "cell_type": "code",
   "execution_count": null,
   "metadata": {},
   "outputs": [],
   "source": [
    "#напишите программу и протестируйте её в этой ячейке\n",
    "#обязательно придумайте свои тесты\n",
    "\n",
    "\n"
   ]
  }
 ],
 "metadata": {
  "kernelspec": {
   "display_name": "Python 3",
   "language": "python",
   "name": "python3"
  },
  "language_info": {
   "codemirror_mode": {
    "name": "ipython",
    "version": 3
   },
   "file_extension": ".py",
   "mimetype": "text/x-python",
   "name": "python",
   "nbconvert_exporter": "python",
   "pygments_lexer": "ipython3",
   "version": "3.11.7"
  },
  "orig_nbformat": 4
 },
 "nbformat": 4,
 "nbformat_minor": 2
}
