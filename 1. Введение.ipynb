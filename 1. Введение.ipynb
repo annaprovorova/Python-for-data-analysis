{
 "cells": [
  {
   "cell_type": "markdown",
   "metadata": {},
   "source": [
    "# Семинар 1. Введение"
   ]
  },
  {
   "cell_type": "markdown",
   "metadata": {},
   "source": [
    "Добро пожаловать в Google Colaboratory (широко используется сокращение Colab)\n",
    "\n",
    "Для того, чтобы продолжить работу в рабочей тетради в Google Colab авторизуйтесь с помощью почтового ящика в почтового ящика в домене @gmail.com (Нажмите кнопку \"Войти\" в правом верхнем углу).\n",
    "\n",
    "Далее нажмите \"Файл\" слева сверху и выберите \"Сохранить копию на диске\".\n",
    "\n",
    "После создания копии, вы можете приступать к работе.\n"
   ]
  },
  {
   "cell_type": "markdown",
   "metadata": {},
   "source": [
    "### Первая программа"
   ]
  },
  {
   "cell_type": "markdown",
   "metadata": {},
   "source": [
    "Вывести на экран рисунок из букв:\n",
    "\n",
    "        Ж\n",
    "       ЖЖЖ\n",
    "      ЖЖЖЖЖ  \n",
    "     ЖЖЖЖЖЖЖ\n",
    "      HH HH\n",
    "      ZZZZZ  \n"
   ]
  },
  {
   "cell_type": "code",
   "execution_count": null,
   "metadata": {},
   "outputs": [],
   "source": [
    "# напишиие код программы здесь\n",
    "# используйте функцию print\n",
    "\n"
   ]
  },
  {
   "cell_type": "markdown",
   "metadata": {},
   "source": [
    "### Задача 2\n",
    "\n",
    "Ввести 3 числа, найти их сумму.\n",
    "\n",
    "Пример теста:\n",
    "\n",
    "\n",
    "<table>\n",
    "    <thead>\n",
    "        <tr>\n",
    "            <th>Ввод</th>\n",
    "            <th>Вывод</th>\n",
    "        </tr>\n",
    "    </thead>\n",
    "    <tbody>\n",
    "        <tr>\n",
    "            <td rowspan=2 align=\"center\">\n",
    "                <pre>\n",
    "4\n",
    "5\n",
    "7\n",
    "</pre>\n",
    "            </td>\n",
    "            <td VALIGN=top><pre>16</pre></td>\n",
    "        </tr>\n",
    "</table>\n",
    "\n"
   ]
  },
  {
   "cell_type": "code",
   "execution_count": 1,
   "metadata": {},
   "outputs": [],
   "source": [
    "# напишите программу здесь\n",
    "# придумайте не менее 3 тестов\n",
    "\n"
   ]
  },
  {
   "cell_type": "markdown",
   "metadata": {},
   "source": [
    "### Задача 3\n",
    "\n",
    "Ввести 3 числа, найти их сумму, произведение и среднее арифметическое.\n",
    "\n",
    "Пример теста:\n",
    "\n",
    "\n",
    "<table>\n",
    "    <thead>\n",
    "        <tr>\n",
    "            <th>Ввод</th>\n",
    "            <th>Вывод</th>\n",
    "        </tr>\n",
    "    </thead>\n",
    "    <tbody>\n",
    "        <tr>\n",
    "            <td rowspan=2 align=\"center\">\n",
    "                <pre>\n",
    "4\n",
    "5\n",
    "7\n",
    "</pre>\n",
    "            </td>\n",
    "            <td VALIGN=top><pre>\n",
    "16\n",
    "140\n",
    "5.3333</pre></td>\n",
    "        </tr>\n",
    "</table>\n"
   ]
  },
  {
   "cell_type": "code",
   "execution_count": null,
   "metadata": {},
   "outputs": [],
   "source": [
    "# напишите программу здесь\n",
    "# придумайте не менее 3 тестов\n",
    "\n"
   ]
  },
  {
   "cell_type": "markdown",
   "metadata": {},
   "source": [
    "## Дружественный интерфейс и форматный вывод\n",
    "\n",
    "Дружественный интерфейс - это упрощение для пользователя взаимодействия с программой. Элементом дружественного интерфейса является поддержание диалога с пользователем.\n",
    "\n",
    "Для этого, перед вводом данных с клавиатуры можно вывести сообщение о том, что именно мы просим ввести пользователя. И наоборот, при выводе результата работы программы, необходимо поясвнить, что именно мы вывели.\n"
   ]
  },
  {
   "cell_type": "code",
   "execution_count": 3,
   "metadata": {},
   "outputs": [],
   "source": [
    "# Ввод с подсказкой:\n",
    "\n",
    "a = int( input(\"Введите число: \"))"
   ]
  },
  {
   "cell_type": "code",
   "execution_count": null,
   "metadata": {},
   "outputs": [],
   "source": [
    "# Форматный вывод\n",
    "a, b = 1, 2 # напомним, что это множественное присваивание\n",
    "\n",
    "print(f\"{a}+{b}={a+b}\")"
   ]
  },
  {
   "cell_type": "markdown",
   "metadata": {},
   "source": [
    "Как Вы видите, перед кавычками в функции **print** стоит буква **f**.\n",
    "\n",
    "Это означает, что мы будем использовать форматную строку.\n",
    "\n",
    "В ней в фигурные скобки может быть подставлено любое имя переменной, используемое в программе или даже выражение.\n",
    "\n",
    "Помимо этого, с помощью форматной строки можно регулировать количество знаков, используемых при выводе числа:"
   ]
  },
  {
   "cell_type": "code",
   "execution_count": 8,
   "metadata": {},
   "outputs": [
    {
     "name": "stdout",
     "output_type": "stream",
     "text": [
      "1  2    3\n"
     ]
    }
   ],
   "source": [
    "a = 1\n",
    "b = 2 \n",
    "c = 3\n",
    "print(f\"{a}{b:3}{c:5}\")"
   ]
  },
  {
   "cell_type": "markdown",
   "metadata": {},
   "source": [
    "Помимо стандартных операций сложения, вычитания, умножения и деления в python можно использовать операции **целочисленного деления(//)** и **деления с остатком (%)**"
   ]
  },
  {
   "cell_type": "code",
   "execution_count": 17,
   "metadata": {},
   "outputs": [
    {
     "name": "stdout",
     "output_type": "stream",
     "text": [
      "1\n",
      "10\n"
     ]
    }
   ],
   "source": [
    "a = 101\n",
    "\n",
    "print(a % 10)\n",
    "print(a // 10)"
   ]
  },
  {
   "cell_type": "markdown",
   "metadata": {},
   "source": [
    "### Задача 4\n",
    "\n",
    "Ввести трёхзначное целое число и вывести в столбик все его цифры, начиная с последней\n",
    "\n",
    "Пример теста:\n",
    "\n",
    "\n",
    "<table>\n",
    "    <thead>\n",
    "        <tr>\n",
    "            <th>Ввод</th>\n",
    "            <th>Вывод</th>\n",
    "        </tr>\n",
    "    </thead>\n",
    "    <tbody>\n",
    "        <tr>\n",
    "            <td rowspan=2 align=\"center\">\n",
    "                <pre>\n",
    "175\n",
    "</pre>\n",
    "            </td>\n",
    "            <td VALIGN=top><pre>\n",
    "5\n",
    "7\n",
    "1</pre></td>\n",
    "        </tr>\n",
    "</table>\n"
   ]
  },
  {
   "cell_type": "code",
   "execution_count": null,
   "metadata": {},
   "outputs": [],
   "source": [
    "# напишите программу здесь\n",
    "# придумайте не менее 3 тестов\n",
    "\n"
   ]
  },
  {
   "cell_type": "markdown",
   "metadata": {},
   "source": [
    "*Дополнительное задание:* Ввести трёхзначное целое число и вывести его цифры, начиная с первой\n"
   ]
  },
  {
   "cell_type": "markdown",
   "metadata": {},
   "source": [
    "### Задача 5\n",
    "\n",
    "Ввести число, обозначающее количество секунд. Вывести то же самое время в минутах и секундах.\n",
    "\n",
    "\n",
    "Пример теста:\n",
    "\n",
    "\n",
    "<table>\n",
    "    <thead>\n",
    "        <tr>\n",
    "            <th>Ввод</th>\n",
    "            <th>Вывод</th>\n",
    "        </tr>\n",
    "    </thead>\n",
    "    <tbody>\n",
    "        <tr>\n",
    "            <td rowspan=2 align=\"center\">\n",
    "                <pre>\n",
    "175\n",
    "</pre>\n",
    "            </td>\n",
    "            <td VALIGN=top><pre>\n",
    "2 мин. 55 с.\n",
    "</pre></td>\n",
    "        </tr>\n",
    "</table>\n"
   ]
  },
  {
   "cell_type": "code",
   "execution_count": null,
   "metadata": {},
   "outputs": [],
   "source": [
    "# напишите программу здесь\n",
    "# придумайте не менее 3 тестов\n",
    "\n"
   ]
  },
  {
   "cell_type": "markdown",
   "metadata": {},
   "source": [
    "Доп. задание: усложните задание, добавив выделение количества часов."
   ]
  },
  {
   "cell_type": "markdown",
   "metadata": {},
   "source": [
    "Форматный вывод также удобен в использовании, при работе с дробными числами, если нужно отрегулировать количество знаков после запятой. Это количество задаётся добавлением записи типа .2f, где число означает необходимое количество знаков после запятой."
   ]
  },
  {
   "cell_type": "code",
   "execution_count": 15,
   "metadata": {},
   "outputs": [
    {
     "name": "stdout",
     "output_type": "stream",
     "text": [
      "x = 12.345678\n",
      "x =     12.346\n",
      "x = 12.35\n"
     ]
    }
   ],
   "source": [
    "x=12.345678\n",
    "print(f\"x = {x}\")\n",
    "\n",
    "print( f\"x = {x:10.3f}\" )\n",
    "\n",
    "print( f\"x = {x:.2f}\" )"
   ]
  },
  {
   "cell_type": "markdown",
   "metadata": {},
   "source": [
    "### Подготовка к НЭ.\n",
    "\n",
    "#### Задача А01 - 1\n",
    "\n",
    "Реализуйте следующую программу: \n",
    "\n",
    "На первой строке вводится название товара (строка).\n",
    "\n",
    "Затем вводится цена товара (целое число) за 1 шт. \n",
    "\n",
    "Программа должна вывести фразу вида 'Ваня покупает <ТОВАР>, 5 шт. Он заплатит за покупку <СУММА, КОТОРАЯ БУДЕТ ЗАПЛАЧЕНА> рублей'. \n",
    "\n",
    "Важно! В коде обязательно нужно использовать f-строку!\n",
    "\n",
    "<table>\n",
    "    <thead>\n",
    "        <tr>\n",
    "            <th>Ввод</th>\n",
    "            <th>Вывод</th>\n",
    "        </tr>\n",
    "    </thead>\n",
    "    <tbody>\n",
    "<tr>\n",
    "            <td rowspan=1 align=\"center\">\n",
    "                <pre>\n",
    "апельсин\n",
    "130\n",
    "</pre>\n",
    "            </td>\n",
    "            <td VALIGN=top><pre>\n",
    "Ваня покупает апельсин, 5 шт. Он заплатит за покупку 650 рублей!\n",
    "</pre></td>\n",
    "</tr>\n",
    "\n",
    "<tr>\n",
    "<td rowspan=1 align=\"center\">\n",
    "<pre>\n",
    "яблоко\n",
    "80\n",
    "</pre>\n",
    "</td>\n",
    "<td VALIGN=top><pre>\n",
    "Ваня покупает яблоко, 5 шт. Он заплатит за покупку 400 рублей!\n",
    "</pre></td>\n",
    "</tr>\n",
    "\n",
    "<tr>\n",
    "            <td rowspan=1 align=\"center\">\n",
    "                <pre>\n",
    "клубнику\n",
    "90\n",
    "</pre>\n",
    "            </td>\n",
    "            <td VALIGN=top><pre>\n",
    "Ваня покупает клубнику, 5 шт. Он заплатит за покупку 450 рублей!\n",
    "</pre></td>\n",
    "        </tr>\n",
    "        </tbody>\n",
    "</table>\n"
   ]
  },
  {
   "cell_type": "code",
   "execution_count": null,
   "metadata": {},
   "outputs": [],
   "source": [
    "# место для программы\n",
    "\n"
   ]
  },
  {
   "cell_type": "markdown",
   "metadata": {},
   "source": [
    "### Математические функции"
   ]
  },
  {
   "cell_type": "markdown",
   "metadata": {},
   "source": [
    "Для того, чтобы выделить целую часть из дробного числа нужно использовать функцию **int()**\n",
    "\n",
    "Для того, чтобы округлить число по математическим правилам, нужно использовать функцию **round()**"
   ]
  },
  {
   "cell_type": "code",
   "execution_count": 16,
   "metadata": {},
   "outputs": [
    {
     "name": "stdout",
     "output_type": "stream",
     "text": [
      "1\n",
      "2\n"
     ]
    }
   ],
   "source": [
    "x = 1.6\n",
    "print(int(x))\n",
    "print(round(x))"
   ]
  },
  {
   "cell_type": "markdown",
   "metadata": {},
   "source": [
    "### Задача 6\n",
    "\n",
    "Ввести число, обозначающее размер одной фотографии в Мбайтах. Определить, сколько фотографий поместится на флэш-карту объёмом 2 Гбайта.\n",
    "\n",
    "\n",
    "Пример теста:\n",
    "\n",
    "\n",
    "<table>\n",
    "    <thead>\n",
    "        <tr>\n",
    "            <th>Ввод</th>\n",
    "            <th>Вывод</th>\n",
    "        </tr>\n",
    "    </thead>\n",
    "    <tbody>\n",
    "        <tr>\n",
    "            <td rowspan=2 align=\"center\">\n",
    "                <pre>\n",
    "6.3\n",
    "</pre>\n",
    "            </td>\n",
    "            <td VALIGN=top><pre>\n",
    "325\n",
    "</pre></td>\n",
    "        </tr>\n",
    "</table>\n"
   ]
  },
  {
   "cell_type": "code",
   "execution_count": null,
   "metadata": {},
   "outputs": [],
   "source": [
    "# место для программы\n",
    "\n"
   ]
  },
  {
   "cell_type": "markdown",
   "metadata": {},
   "source": [
    "### Подготовка к НЭ\n",
    "\n",
    "#### Задача А01 - 2\n",
    "\n",
    "Реализуйте следующую программу: \n",
    "\n",
    "На первой строке вводится название книги (строка).\n",
    "\n",
    "Затем вводится цена книги (целое число). \n",
    "\n",
    "Программа должна вывести фразу вида 'Книгу \"<НАЗВАНИЕ>\" можно купить со скидкой 10% по цене <ЦЕНА СО СКИДКОЙ> рублей'. \n",
    "\n",
    "Важно! В коде обязательно нужно использовать f-строку!\n",
    "\n",
    "<table>\n",
    "    <thead>\n",
    "        <tr>\n",
    "            <th>Ввод</th>\n",
    "            <th>Вывод</th>\n",
    "        </tr>\n",
    "    </thead>\n",
    "    <tbody>\n",
    "<tr>\n",
    "            <td rowspan=1 align=\"center\">\n",
    "                <pre>\n",
    "Python для всех\n",
    "1300\n",
    "</pre>\n",
    "            </td>\n",
    "            <td VALIGN=top><pre>\n",
    "Книгу \"Python для всех\" можно купить со скидкой 10% по цене 1170.0 рублей\n",
    "</pre></td>\n",
    "</tr>\n",
    "\n",
    "<tr>\n",
    "<td rowspan=1 align=\"center\">\n",
    "<pre>\n",
    "Русалочка\n",
    "815\n",
    "</pre>\n",
    "</td>\n",
    "<td VALIGN=top><pre>\n",
    "Книгу \"Русалочка\" можно купить со скидкой 10% по цене 733.5 рублей\n",
    "</pre></td>\n",
    "</tr>\n",
    "\n",
    "<tr>\n",
    "            <td rowspan=1 align=\"center\">\n",
    "                <pre>\n",
    "Садоводство в 21 веке\n",
    "900\n",
    "</pre>\n",
    "            </td>\n",
    "            <td VALIGN=top><pre>\n",
    "Книгу \"Садоводство в 21 веке\" можно купить со скидкой 10% по цене 810.0 рублей\n",
    "</pre></td>\n",
    "        </tr>\n",
    "        </tbody>\n",
    "</table>\n"
   ]
  },
  {
   "cell_type": "code",
   "execution_count": null,
   "metadata": {},
   "outputs": [],
   "source": []
  }
 ],
 "metadata": {
  "kernelspec": {
   "display_name": "MNE_EEG_env",
   "language": "python",
   "name": "mne_eeg_env"
  },
  "language_info": {
   "codemirror_mode": {
    "name": "ipython",
    "version": 3
   },
   "file_extension": ".py",
   "mimetype": "text/x-python",
   "name": "python",
   "nbconvert_exporter": "python",
   "pygments_lexer": "ipython3",
   "version": "3.12.2"
  },
  "orig_nbformat": 4
 },
 "nbformat": 4,
 "nbformat_minor": 2
}
